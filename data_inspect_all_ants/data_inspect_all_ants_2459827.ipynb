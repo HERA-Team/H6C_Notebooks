{
 "cells": [
  {
   "cell_type": "code",
   "execution_count": 1,
   "metadata": {
    "execution": {
     "iopub.execute_input": "2022-09-05T15:09:55.144904Z",
     "iopub.status.busy": "2022-09-05T15:09:55.144588Z",
     "iopub.status.idle": "2022-09-05T15:10:00.010529Z",
     "shell.execute_reply": "2022-09-05T15:09:59.982507Z"
    },
    "scrolled": false
   },
   "outputs": [
    {
     "data": {
      "text/html": [
       "<style>.container { width:100% !important; }</style>"
      ],
      "text/plain": [
       "<IPython.core.display.HTML object>"
      ]
     },
     "metadata": {},
     "output_type": "display_data"
    }
   ],
   "source": [
    "import matplotlib\n",
    "import matplotlib.pyplot as plt\n",
    "from matplotlib.ticker import FormatStrFormatter\n",
    "import matplotlib.patches as mpatches\n",
    "import matplotlib.gridspec as gridspec\n",
    "import numpy as np\n",
    "from pyuvdata import UVCal, UVData\n",
    "import os\n",
    "import sys\n",
    "import glob\n",
    "import uvtools as uvt\n",
    "from astropy.time import Time\n",
    "from astropy.coordinates import EarthLocation, AltAz, Angle\n",
    "from astropy.coordinates import SkyCoord as sc\n",
    "import pandas\n",
    "import warnings \n",
    "import copy\n",
    "from hera_notebook_templates import utils\n",
    "import hera_qm\n",
    "from hera_mc import cm_hookup\n",
    "import h5py\n",
    "import importlib\n",
    "from scipy import stats\n",
    "from IPython.display import display, HTML\n",
    "#warnings.filterwarnings('ignore')\n",
    "\n",
    "%matplotlib inline\n",
    "%config InlineBackend.figure_format = 'retina'\n",
    "display(HTML(\"<style>.container { width:100% !important; }</style>\"))"
   ]
  },
  {
   "cell_type": "code",
   "execution_count": 2,
   "metadata": {
    "execution": {
     "iopub.execute_input": "2022-09-05T15:10:00.027653Z",
     "iopub.status.busy": "2022-09-05T15:10:00.027169Z",
     "iopub.status.idle": "2022-09-05T15:10:00.033740Z",
     "shell.execute_reply": "2022-09-05T15:10:00.032791Z"
    },
    "scrolled": false
   },
   "outputs": [
    {
     "name": "stdout",
     "output_type": "stream",
     "text": [
      "DATA_PATH = \"/mnt/sn1/2459827\"\n",
      "APRIORI_STATUSES = dish_maintenance,dish_ok,RF_maintenance,RF_ok,digital_ok,digital_maintenance,calibration_maintenance,calibration_triage,calibration_ok\n",
      "JULIANDATE = 2459827\n",
      "Date = 9-4-2022\n"
     ]
    }
   ],
   "source": [
    "#get data location\n",
    "data_path = os.environ['DATA_PATH']\n",
    "print(f'DATA_PATH = \"{data_path}\"')\n",
    "statuses = os.environ['APRIORI_STATUSES']\n",
    "print(f'APRIORI_STATUSES = {statuses}')\n",
    "JD = os.environ['JULIANDATE']\n",
    "print(f'JULIANDATE = {JD}')\n",
    "utc = Time(JD, format='jd').datetime\n",
    "print(f'Date = {utc.month}-{utc.day}-{utc.year}')"
   ]
  },
  {
   "cell_type": "code",
   "execution_count": 3,
   "metadata": {
    "execution": {
     "iopub.execute_input": "2022-09-05T15:10:00.037135Z",
     "iopub.status.busy": "2022-09-05T15:10:00.036898Z",
     "iopub.status.idle": "2022-09-05T15:10:04.859903Z",
     "shell.execute_reply": "2022-09-05T15:10:04.859092Z"
    },
    "scrolled": true
   },
   "outputs": [
    {
     "name": "stdout",
     "output_type": "stream",
     "text": [
      "1862 sum files found between JDs 2459827.25321 and 2459827.66951\n",
      "1862 diff files found between JDs 2459827.25321 and 2459827.66951\n",
      "1862 sum auto files found between JDs 2459827.25321 and 2459827.66951\n",
      "1862 diff auto files found between JDs 2459827.25321 and 2459827.66951\n"
     ]
    },
    {
     "ename": "UnboundLocalError",
     "evalue": "local variable 'hhfile' referenced before assignment",
     "output_type": "error",
     "traceback": [
      "\u001b[0;31m---------------------------------------------------------------------------\u001b[0m",
      "\u001b[0;31mOSError\u001b[0m                                   Traceback (most recent call last)",
      "File \u001b[0;32m~/mambaforge/envs/RTP/lib/python3.10/site-packages/hera_notebook_templates/utils.py:210\u001b[0m, in \u001b[0;36mload_data\u001b[0;34m(data_path, JD)\u001b[0m\n\u001b[1;32m    209\u001b[0m \u001b[38;5;28;01mtry\u001b[39;00m:\n\u001b[0;32m--> 210\u001b[0m     \u001b[43muvd_hh\u001b[49m\u001b[38;5;241;43m.\u001b[39;49m\u001b[43mread\u001b[49m\u001b[43m(\u001b[49m\u001b[43mhhfile1\u001b[49m\u001b[43m,\u001b[49m\u001b[43m \u001b[49m\u001b[43mskip_bad_files\u001b[49m\u001b[38;5;241;43m=\u001b[39;49m\u001b[38;5;28;43;01mTrue\u001b[39;49;00m\u001b[43m)\u001b[49m\n\u001b[1;32m    211\u001b[0m \u001b[38;5;28;01mexcept\u001b[39;00m:\n",
      "File \u001b[0;32m~/mambaforge/envs/RTP/lib/python3.10/site-packages/pyuvdata/uvdata/uvdata.py:12344\u001b[0m, in \u001b[0;36mUVData.read\u001b[0;34m(self, filename, axis, file_type, read_data, skip_bad_files, background_lsts, ignore_name, allow_rephase, phase_center_radec, unphase_to_drift, phase_frame, phase_epoch, orig_phase_frame, phase_use_ant_pos, fix_old_proj, fix_use_ant_pos, make_multi_phase, antenna_nums, antenna_names, ant_str, bls, frequencies, freq_chans, times, time_range, lsts, lst_range, polarizations, blt_inds, keep_all_metadata, run_check, check_extra, run_check_acceptability, strict_uvw_antpos_check, check_autos, fix_autos, phase_type, correct_lat_lon, calc_lst, use_model, data_column, pol_order, ignore_single_chan, raise_error, read_weights, allow_flex_pol, multidim_index, data_array_dtype, use_aoflagger_flags, use_cotter_flags, remove_dig_gains, remove_coarse_band, correct_cable_len, correct_van_vleck, cheby_approx, flag_small_auto_ants, flag_small_sig_ants, propagate_coarse_flags, flag_init, edge_width, start_flag, end_flag, flag_dc_offset, remove_flagged_ants, phase_to_pointing_center, nsample_array_dtype, isource, irec, isb, corrchunk, pseudo_cont, rechunk)\u001b[0m\n\u001b[1;32m  12343\u001b[0m \u001b[38;5;28;01melif\u001b[39;00m file_type \u001b[38;5;241m==\u001b[39m \u001b[38;5;124m\"\u001b[39m\u001b[38;5;124muvh5\u001b[39m\u001b[38;5;124m\"\u001b[39m:\n\u001b[0;32m> 12344\u001b[0m     \u001b[38;5;28;43mself\u001b[39;49m\u001b[38;5;241;43m.\u001b[39;49m\u001b[43mread_uvh5\u001b[49m\u001b[43m(\u001b[49m\n\u001b[1;32m  12345\u001b[0m \u001b[43m        \u001b[49m\u001b[43mfilename\u001b[49m\u001b[43m,\u001b[49m\n\u001b[1;32m  12346\u001b[0m \u001b[43m        \u001b[49m\u001b[43mantenna_nums\u001b[49m\u001b[38;5;241;43m=\u001b[39;49m\u001b[43mantenna_nums\u001b[49m\u001b[43m,\u001b[49m\n\u001b[1;32m  12347\u001b[0m \u001b[43m        \u001b[49m\u001b[43mantenna_names\u001b[49m\u001b[38;5;241;43m=\u001b[39;49m\u001b[43mantenna_names\u001b[49m\u001b[43m,\u001b[49m\n\u001b[1;32m  12348\u001b[0m \u001b[43m        \u001b[49m\u001b[43mant_str\u001b[49m\u001b[38;5;241;43m=\u001b[39;49m\u001b[43mant_str\u001b[49m\u001b[43m,\u001b[49m\n\u001b[1;32m  12349\u001b[0m \u001b[43m        \u001b[49m\u001b[43mbls\u001b[49m\u001b[38;5;241;43m=\u001b[39;49m\u001b[43mbls\u001b[49m\u001b[43m,\u001b[49m\n\u001b[1;32m  12350\u001b[0m \u001b[43m        \u001b[49m\u001b[43mfrequencies\u001b[49m\u001b[38;5;241;43m=\u001b[39;49m\u001b[43mfrequencies\u001b[49m\u001b[43m,\u001b[49m\n\u001b[1;32m  12351\u001b[0m \u001b[43m        \u001b[49m\u001b[43mfreq_chans\u001b[49m\u001b[38;5;241;43m=\u001b[39;49m\u001b[43mfreq_chans\u001b[49m\u001b[43m,\u001b[49m\n\u001b[1;32m  12352\u001b[0m \u001b[43m        \u001b[49m\u001b[43mtimes\u001b[49m\u001b[38;5;241;43m=\u001b[39;49m\u001b[43mtimes\u001b[49m\u001b[43m,\u001b[49m\n\u001b[1;32m  12353\u001b[0m \u001b[43m        \u001b[49m\u001b[43mtime_range\u001b[49m\u001b[38;5;241;43m=\u001b[39;49m\u001b[43mtime_range\u001b[49m\u001b[43m,\u001b[49m\n\u001b[1;32m  12354\u001b[0m \u001b[43m        \u001b[49m\u001b[43mlsts\u001b[49m\u001b[38;5;241;43m=\u001b[39;49m\u001b[43mlsts\u001b[49m\u001b[43m,\u001b[49m\n\u001b[1;32m  12355\u001b[0m \u001b[43m        \u001b[49m\u001b[43mlst_range\u001b[49m\u001b[38;5;241;43m=\u001b[39;49m\u001b[43mlst_range\u001b[49m\u001b[43m,\u001b[49m\n\u001b[1;32m  12356\u001b[0m \u001b[43m        \u001b[49m\u001b[43mpolarizations\u001b[49m\u001b[38;5;241;43m=\u001b[39;49m\u001b[43mpolarizations\u001b[49m\u001b[43m,\u001b[49m\n\u001b[1;32m  12357\u001b[0m \u001b[43m        \u001b[49m\u001b[43mblt_inds\u001b[49m\u001b[38;5;241;43m=\u001b[39;49m\u001b[43mblt_inds\u001b[49m\u001b[43m,\u001b[49m\n\u001b[1;32m  12358\u001b[0m \u001b[43m        \u001b[49m\u001b[43mread_data\u001b[49m\u001b[38;5;241;43m=\u001b[39;49m\u001b[43mread_data\u001b[49m\u001b[43m,\u001b[49m\n\u001b[1;32m  12359\u001b[0m \u001b[43m        \u001b[49m\u001b[43mdata_array_dtype\u001b[49m\u001b[38;5;241;43m=\u001b[39;49m\u001b[43mdata_array_dtype\u001b[49m\u001b[43m,\u001b[49m\n\u001b[1;32m  12360\u001b[0m \u001b[43m        \u001b[49m\u001b[43mkeep_all_metadata\u001b[49m\u001b[38;5;241;43m=\u001b[39;49m\u001b[43mkeep_all_metadata\u001b[49m\u001b[43m,\u001b[49m\n\u001b[1;32m  12361\u001b[0m \u001b[43m        \u001b[49m\u001b[43mmultidim_index\u001b[49m\u001b[38;5;241;43m=\u001b[39;49m\u001b[43mmultidim_index\u001b[49m\u001b[43m,\u001b[49m\n\u001b[1;32m  12362\u001b[0m \u001b[43m        \u001b[49m\u001b[43mbackground_lsts\u001b[49m\u001b[38;5;241;43m=\u001b[39;49m\u001b[43mbackground_lsts\u001b[49m\u001b[43m,\u001b[49m\n\u001b[1;32m  12363\u001b[0m \u001b[43m        \u001b[49m\u001b[43mrun_check\u001b[49m\u001b[38;5;241;43m=\u001b[39;49m\u001b[43mrun_check\u001b[49m\u001b[43m,\u001b[49m\n\u001b[1;32m  12364\u001b[0m \u001b[43m        \u001b[49m\u001b[43mcheck_extra\u001b[49m\u001b[38;5;241;43m=\u001b[39;49m\u001b[43mcheck_extra\u001b[49m\u001b[43m,\u001b[49m\n\u001b[1;32m  12365\u001b[0m \u001b[43m        \u001b[49m\u001b[43mrun_check_acceptability\u001b[49m\u001b[38;5;241;43m=\u001b[39;49m\u001b[43mrun_check_acceptability\u001b[49m\u001b[43m,\u001b[49m\n\u001b[1;32m  12366\u001b[0m \u001b[43m        \u001b[49m\u001b[43mstrict_uvw_antpos_check\u001b[49m\u001b[38;5;241;43m=\u001b[39;49m\u001b[43mstrict_uvw_antpos_check\u001b[49m\u001b[43m,\u001b[49m\n\u001b[1;32m  12367\u001b[0m \u001b[43m        \u001b[49m\u001b[43mfix_old_proj\u001b[49m\u001b[38;5;241;43m=\u001b[39;49m\u001b[43mfix_old_proj\u001b[49m\u001b[43m,\u001b[49m\n\u001b[1;32m  12368\u001b[0m \u001b[43m        \u001b[49m\u001b[43mfix_use_ant_pos\u001b[49m\u001b[38;5;241;43m=\u001b[39;49m\u001b[43mfix_use_ant_pos\u001b[49m\u001b[43m,\u001b[49m\n\u001b[1;32m  12369\u001b[0m \u001b[43m        \u001b[49m\u001b[43mcheck_autos\u001b[49m\u001b[38;5;241;43m=\u001b[39;49m\u001b[43mcheck_autos\u001b[49m\u001b[43m,\u001b[49m\n\u001b[1;32m  12370\u001b[0m \u001b[43m        \u001b[49m\u001b[43mfix_autos\u001b[49m\u001b[38;5;241;43m=\u001b[39;49m\u001b[43mfix_autos\u001b[49m\u001b[43m,\u001b[49m\n\u001b[1;32m  12371\u001b[0m \u001b[43m    \u001b[49m\u001b[43m)\u001b[49m\n\u001b[1;32m  12372\u001b[0m     select \u001b[38;5;241m=\u001b[39m \u001b[38;5;28;01mFalse\u001b[39;00m\n",
      "File \u001b[0;32m~/mambaforge/envs/RTP/lib/python3.10/site-packages/pyuvdata/uvdata/uvdata.py:11359\u001b[0m, in \u001b[0;36mUVData.read_uvh5\u001b[0;34m(self, filename, antenna_nums, antenna_names, ant_str, bls, frequencies, freq_chans, times, time_range, lsts, lst_range, polarizations, blt_inds, keep_all_metadata, read_data, data_array_dtype, multidim_index, background_lsts, run_check, check_extra, run_check_acceptability, strict_uvw_antpos_check, fix_old_proj, fix_use_ant_pos, check_autos, fix_autos)\u001b[0m\n\u001b[1;32m  11358\u001b[0m uvh5_obj \u001b[38;5;241m=\u001b[39m uvh5\u001b[38;5;241m.\u001b[39mUVH5()\n\u001b[0;32m> 11359\u001b[0m \u001b[43muvh5_obj\u001b[49m\u001b[38;5;241;43m.\u001b[39;49m\u001b[43mread_uvh5\u001b[49m\u001b[43m(\u001b[49m\n\u001b[1;32m  11360\u001b[0m \u001b[43m    \u001b[49m\u001b[43mfilename\u001b[49m\u001b[43m,\u001b[49m\n\u001b[1;32m  11361\u001b[0m \u001b[43m    \u001b[49m\u001b[43mantenna_nums\u001b[49m\u001b[38;5;241;43m=\u001b[39;49m\u001b[43mantenna_nums\u001b[49m\u001b[43m,\u001b[49m\n\u001b[1;32m  11362\u001b[0m \u001b[43m    \u001b[49m\u001b[43mantenna_names\u001b[49m\u001b[38;5;241;43m=\u001b[39;49m\u001b[43mantenna_names\u001b[49m\u001b[43m,\u001b[49m\n\u001b[1;32m  11363\u001b[0m \u001b[43m    \u001b[49m\u001b[43mant_str\u001b[49m\u001b[38;5;241;43m=\u001b[39;49m\u001b[43mant_str\u001b[49m\u001b[43m,\u001b[49m\n\u001b[1;32m  11364\u001b[0m \u001b[43m    \u001b[49m\u001b[43mbls\u001b[49m\u001b[38;5;241;43m=\u001b[39;49m\u001b[43mbls\u001b[49m\u001b[43m,\u001b[49m\n\u001b[1;32m  11365\u001b[0m \u001b[43m    \u001b[49m\u001b[43mfrequencies\u001b[49m\u001b[38;5;241;43m=\u001b[39;49m\u001b[43mfrequencies\u001b[49m\u001b[43m,\u001b[49m\n\u001b[1;32m  11366\u001b[0m \u001b[43m    \u001b[49m\u001b[43mfreq_chans\u001b[49m\u001b[38;5;241;43m=\u001b[39;49m\u001b[43mfreq_chans\u001b[49m\u001b[43m,\u001b[49m\n\u001b[1;32m  11367\u001b[0m \u001b[43m    \u001b[49m\u001b[43mtimes\u001b[49m\u001b[38;5;241;43m=\u001b[39;49m\u001b[43mtimes\u001b[49m\u001b[43m,\u001b[49m\n\u001b[1;32m  11368\u001b[0m \u001b[43m    \u001b[49m\u001b[43mtime_range\u001b[49m\u001b[38;5;241;43m=\u001b[39;49m\u001b[43mtime_range\u001b[49m\u001b[43m,\u001b[49m\n\u001b[1;32m  11369\u001b[0m \u001b[43m    \u001b[49m\u001b[43mlsts\u001b[49m\u001b[38;5;241;43m=\u001b[39;49m\u001b[43mlsts\u001b[49m\u001b[43m,\u001b[49m\n\u001b[1;32m  11370\u001b[0m \u001b[43m    \u001b[49m\u001b[43mlst_range\u001b[49m\u001b[38;5;241;43m=\u001b[39;49m\u001b[43mlst_range\u001b[49m\u001b[43m,\u001b[49m\n\u001b[1;32m  11371\u001b[0m \u001b[43m    \u001b[49m\u001b[43mpolarizations\u001b[49m\u001b[38;5;241;43m=\u001b[39;49m\u001b[43mpolarizations\u001b[49m\u001b[43m,\u001b[49m\n\u001b[1;32m  11372\u001b[0m \u001b[43m    \u001b[49m\u001b[43mblt_inds\u001b[49m\u001b[38;5;241;43m=\u001b[39;49m\u001b[43mblt_inds\u001b[49m\u001b[43m,\u001b[49m\n\u001b[1;32m  11373\u001b[0m \u001b[43m    \u001b[49m\u001b[43mdata_array_dtype\u001b[49m\u001b[38;5;241;43m=\u001b[39;49m\u001b[43mdata_array_dtype\u001b[49m\u001b[43m,\u001b[49m\n\u001b[1;32m  11374\u001b[0m \u001b[43m    \u001b[49m\u001b[43mkeep_all_metadata\u001b[49m\u001b[38;5;241;43m=\u001b[39;49m\u001b[43mkeep_all_metadata\u001b[49m\u001b[43m,\u001b[49m\n\u001b[1;32m  11375\u001b[0m \u001b[43m    \u001b[49m\u001b[43mread_data\u001b[49m\u001b[38;5;241;43m=\u001b[39;49m\u001b[43mread_data\u001b[49m\u001b[43m,\u001b[49m\n\u001b[1;32m  11376\u001b[0m \u001b[43m    \u001b[49m\u001b[43mmultidim_index\u001b[49m\u001b[38;5;241;43m=\u001b[39;49m\u001b[43mmultidim_index\u001b[49m\u001b[43m,\u001b[49m\n\u001b[1;32m  11377\u001b[0m \u001b[43m    \u001b[49m\u001b[43mbackground_lsts\u001b[49m\u001b[38;5;241;43m=\u001b[39;49m\u001b[43mbackground_lsts\u001b[49m\u001b[43m,\u001b[49m\n\u001b[1;32m  11378\u001b[0m \u001b[43m    \u001b[49m\u001b[43mrun_check\u001b[49m\u001b[38;5;241;43m=\u001b[39;49m\u001b[43mrun_check\u001b[49m\u001b[43m,\u001b[49m\n\u001b[1;32m  11379\u001b[0m \u001b[43m    \u001b[49m\u001b[43mcheck_extra\u001b[49m\u001b[38;5;241;43m=\u001b[39;49m\u001b[43mcheck_extra\u001b[49m\u001b[43m,\u001b[49m\n\u001b[1;32m  11380\u001b[0m \u001b[43m    \u001b[49m\u001b[43mrun_check_acceptability\u001b[49m\u001b[38;5;241;43m=\u001b[39;49m\u001b[43mrun_check_acceptability\u001b[49m\u001b[43m,\u001b[49m\n\u001b[1;32m  11381\u001b[0m \u001b[43m    \u001b[49m\u001b[43mstrict_uvw_antpos_check\u001b[49m\u001b[38;5;241;43m=\u001b[39;49m\u001b[43mstrict_uvw_antpos_check\u001b[49m\u001b[43m,\u001b[49m\n\u001b[1;32m  11382\u001b[0m \u001b[43m    \u001b[49m\u001b[43mfix_old_proj\u001b[49m\u001b[38;5;241;43m=\u001b[39;49m\u001b[43mfix_old_proj\u001b[49m\u001b[43m,\u001b[49m\n\u001b[1;32m  11383\u001b[0m \u001b[43m    \u001b[49m\u001b[43mfix_use_ant_pos\u001b[49m\u001b[38;5;241;43m=\u001b[39;49m\u001b[43mfix_use_ant_pos\u001b[49m\u001b[43m,\u001b[49m\n\u001b[1;32m  11384\u001b[0m \u001b[43m    \u001b[49m\u001b[43mcheck_autos\u001b[49m\u001b[38;5;241;43m=\u001b[39;49m\u001b[43mcheck_autos\u001b[49m\u001b[43m,\u001b[49m\n\u001b[1;32m  11385\u001b[0m \u001b[43m    \u001b[49m\u001b[43mfix_autos\u001b[49m\u001b[38;5;241;43m=\u001b[39;49m\u001b[43mfix_autos\u001b[49m\u001b[43m,\u001b[49m\n\u001b[1;32m  11386\u001b[0m \u001b[43m\u001b[49m\u001b[43m)\u001b[49m\n\u001b[1;32m  11387\u001b[0m \u001b[38;5;28mself\u001b[39m\u001b[38;5;241m.\u001b[39m_convert_from_filetype(uvh5_obj)\n",
      "File \u001b[0;32m~/mambaforge/envs/RTP/lib/python3.10/site-packages/pyuvdata/uvdata/uvh5.py:978\u001b[0m, in \u001b[0;36mUVH5.read_uvh5\u001b[0;34m(self, filename, antenna_nums, antenna_names, ant_str, bls, frequencies, freq_chans, times, time_range, lsts, lst_range, polarizations, blt_inds, keep_all_metadata, read_data, data_array_dtype, multidim_index, background_lsts, run_check, check_extra, run_check_acceptability, strict_uvw_antpos_check, fix_old_proj, fix_use_ant_pos, check_autos, fix_autos)\u001b[0m\n\u001b[1;32m    977\u001b[0m     dgrp \u001b[38;5;241m=\u001b[39m f[\u001b[38;5;124m\"\u001b[39m\u001b[38;5;124m/Data\u001b[39m\u001b[38;5;124m\"\u001b[39m]\n\u001b[0;32m--> 978\u001b[0m     \u001b[38;5;28;43mself\u001b[39;49m\u001b[38;5;241;43m.\u001b[39;49m\u001b[43m_get_data\u001b[49m\u001b[43m(\u001b[49m\n\u001b[1;32m    979\u001b[0m \u001b[43m        \u001b[49m\u001b[43mdgrp\u001b[49m\u001b[43m,\u001b[49m\n\u001b[1;32m    980\u001b[0m \u001b[43m        \u001b[49m\u001b[43mantenna_nums\u001b[49m\u001b[43m,\u001b[49m\n\u001b[1;32m    981\u001b[0m \u001b[43m        \u001b[49m\u001b[43mantenna_names\u001b[49m\u001b[43m,\u001b[49m\n\u001b[1;32m    982\u001b[0m \u001b[43m        \u001b[49m\u001b[43mant_str\u001b[49m\u001b[43m,\u001b[49m\n\u001b[1;32m    983\u001b[0m \u001b[43m        \u001b[49m\u001b[43mbls\u001b[49m\u001b[43m,\u001b[49m\n\u001b[1;32m    984\u001b[0m \u001b[43m        \u001b[49m\u001b[43mfrequencies\u001b[49m\u001b[43m,\u001b[49m\n\u001b[1;32m    985\u001b[0m \u001b[43m        \u001b[49m\u001b[43mfreq_chans\u001b[49m\u001b[43m,\u001b[49m\n\u001b[1;32m    986\u001b[0m \u001b[43m        \u001b[49m\u001b[43mtimes\u001b[49m\u001b[43m,\u001b[49m\n\u001b[1;32m    987\u001b[0m \u001b[43m        \u001b[49m\u001b[43mtime_range\u001b[49m\u001b[43m,\u001b[49m\n\u001b[1;32m    988\u001b[0m \u001b[43m        \u001b[49m\u001b[43mlsts\u001b[49m\u001b[43m,\u001b[49m\n\u001b[1;32m    989\u001b[0m \u001b[43m        \u001b[49m\u001b[43mlst_range\u001b[49m\u001b[43m,\u001b[49m\n\u001b[1;32m    990\u001b[0m \u001b[43m        \u001b[49m\u001b[43mpolarizations\u001b[49m\u001b[43m,\u001b[49m\n\u001b[1;32m    991\u001b[0m \u001b[43m        \u001b[49m\u001b[43mblt_inds\u001b[49m\u001b[43m,\u001b[49m\n\u001b[1;32m    992\u001b[0m \u001b[43m        \u001b[49m\u001b[43mdata_array_dtype\u001b[49m\u001b[43m,\u001b[49m\n\u001b[1;32m    993\u001b[0m \u001b[43m        \u001b[49m\u001b[43mkeep_all_metadata\u001b[49m\u001b[43m,\u001b[49m\n\u001b[1;32m    994\u001b[0m \u001b[43m        \u001b[49m\u001b[43mmultidim_index\u001b[49m\u001b[43m,\u001b[49m\n\u001b[1;32m    995\u001b[0m \u001b[43m        \u001b[49m\u001b[43mrun_check\u001b[49m\u001b[43m,\u001b[49m\n\u001b[1;32m    996\u001b[0m \u001b[43m        \u001b[49m\u001b[43mcheck_extra\u001b[49m\u001b[43m,\u001b[49m\n\u001b[1;32m    997\u001b[0m \u001b[43m        \u001b[49m\u001b[43mrun_check_acceptability\u001b[49m\u001b[43m,\u001b[49m\n\u001b[1;32m    998\u001b[0m \u001b[43m        \u001b[49m\u001b[43mstrict_uvw_antpos_check\u001b[49m\u001b[43m,\u001b[49m\n\u001b[1;32m    999\u001b[0m \u001b[43m        \u001b[49m\u001b[43mfix_old_proj\u001b[49m\u001b[43m,\u001b[49m\n\u001b[1;32m   1000\u001b[0m \u001b[43m        \u001b[49m\u001b[43mfix_use_ant_pos\u001b[49m\u001b[43m,\u001b[49m\n\u001b[1;32m   1001\u001b[0m \u001b[43m        \u001b[49m\u001b[43mcheck_autos\u001b[49m\u001b[43m,\u001b[49m\n\u001b[1;32m   1002\u001b[0m \u001b[43m        \u001b[49m\u001b[43mfix_autos\u001b[49m\u001b[43m,\u001b[49m\n\u001b[1;32m   1003\u001b[0m \u001b[43m    \u001b[49m\u001b[43m)\u001b[49m\n\u001b[1;32m   1005\u001b[0m \u001b[38;5;66;03m# For now, always use current shapes when data is read in, even if the file\u001b[39;00m\n\u001b[1;32m   1006\u001b[0m \u001b[38;5;66;03m# has the future shapes.\u001b[39;00m\n",
      "File \u001b[0;32m~/mambaforge/envs/RTP/lib/python3.10/site-packages/pyuvdata/uvdata/uvh5.py:542\u001b[0m, in \u001b[0;36mUVH5._get_data\u001b[0;34m(self, dgrp, antenna_nums, antenna_names, ant_str, bls, frequencies, freq_chans, times, time_range, lsts, lst_range, polarizations, blt_inds, data_array_dtype, keep_all_metadata, multidim_index, run_check, check_extra, run_check_acceptability, strict_uvw_antpos_check, fix_old_proj, fix_use_ant_pos, check_autos, fix_autos)\u001b[0m\n\u001b[1;32m    541\u001b[0m \u001b[38;5;28;01mif\u001b[39;00m custom_dtype:\n\u001b[0;32m--> 542\u001b[0m     \u001b[38;5;28mself\u001b[39m\u001b[38;5;241m.\u001b[39mdata_array \u001b[38;5;241m=\u001b[39m \u001b[43m_read_complex_astype\u001b[49m\u001b[43m(\u001b[49m\n\u001b[1;32m    543\u001b[0m \u001b[43m        \u001b[49m\u001b[43mdgrp\u001b[49m\u001b[43m[\u001b[49m\u001b[38;5;124;43m\"\u001b[39;49m\u001b[38;5;124;43mvisdata\u001b[39;49m\u001b[38;5;124;43m\"\u001b[39;49m\u001b[43m]\u001b[49m\u001b[43m,\u001b[49m\u001b[43m \u001b[49m\u001b[43minds\u001b[49m\u001b[43m,\u001b[49m\u001b[43m \u001b[49m\u001b[43mdata_array_dtype\u001b[49m\n\u001b[1;32m    544\u001b[0m \u001b[43m    \u001b[49m\u001b[43m)\u001b[49m\n\u001b[1;32m    545\u001b[0m \u001b[38;5;28;01melse\u001b[39;00m:\n",
      "File \u001b[0;32m~/mambaforge/envs/RTP/lib/python3.10/site-packages/pyuvdata/uvdata/uvh5.py:98\u001b[0m, in \u001b[0;36m_read_complex_astype\u001b[0;34m(dset, indices, dtype_out)\u001b[0m\n\u001b[1;32m     97\u001b[0m \u001b[38;5;66;03m# dset is indexed in native dtype, but is upcast upon assignment\u001b[39;00m\n\u001b[0;32m---> 98\u001b[0m output_array\u001b[38;5;241m.\u001b[39mreal \u001b[38;5;241m=\u001b[39m uvutils\u001b[38;5;241m.\u001b[39m_index_dset(\u001b[43mdset\u001b[49m\u001b[38;5;241;43m.\u001b[39;49m\u001b[43mastype\u001b[49m\u001b[43m(\u001b[49m\u001b[43mdtype_in\u001b[49m\u001b[43m)\u001b[49m\u001b[43m[\u001b[49m\u001b[38;5;124;43m\"\u001b[39;49m\u001b[38;5;124;43mr\u001b[39;49m\u001b[38;5;124;43m\"\u001b[39;49m\u001b[43m]\u001b[49m, indices)\n\u001b[1;32m     99\u001b[0m output_array\u001b[38;5;241m.\u001b[39mimag \u001b[38;5;241m=\u001b[39m uvutils\u001b[38;5;241m.\u001b[39m_index_dset(dset\u001b[38;5;241m.\u001b[39mastype(dtype_in)[\u001b[38;5;124m\"\u001b[39m\u001b[38;5;124mi\u001b[39m\u001b[38;5;124m\"\u001b[39m], indices)\n",
      "File \u001b[0;32m~/mambaforge/envs/RTP/lib/python3.10/site-packages/h5py/_hl/dataset.py:189\u001b[0m, in \u001b[0;36mAstypeWrapper.__getitem__\u001b[0;34m(self, args)\u001b[0m\n\u001b[1;32m    188\u001b[0m \u001b[38;5;28;01mdef\u001b[39;00m \u001b[38;5;21m__getitem__\u001b[39m(\u001b[38;5;28mself\u001b[39m, args):\n\u001b[0;32m--> 189\u001b[0m     \u001b[38;5;28;01mreturn\u001b[39;00m \u001b[38;5;28;43mself\u001b[39;49m\u001b[38;5;241;43m.\u001b[39;49m\u001b[43m_dset\u001b[49m\u001b[38;5;241;43m.\u001b[39;49m\u001b[38;5;21;43m__getitem__\u001b[39;49m\u001b[43m(\u001b[49m\u001b[43margs\u001b[49m\u001b[43m,\u001b[49m\u001b[43m \u001b[49m\u001b[43mnew_dtype\u001b[49m\u001b[38;5;241;43m=\u001b[39;49m\u001b[38;5;28;43mself\u001b[39;49m\u001b[38;5;241;43m.\u001b[39;49m\u001b[43m_dtype\u001b[49m\u001b[43m)\u001b[49m\n",
      "File \u001b[0;32mh5py/_objects.pyx:54\u001b[0m, in \u001b[0;36mh5py._objects.with_phil.wrapper\u001b[0;34m()\u001b[0m\n",
      "File \u001b[0;32mh5py/_objects.pyx:55\u001b[0m, in \u001b[0;36mh5py._objects.with_phil.wrapper\u001b[0;34m()\u001b[0m\n",
      "File \u001b[0;32m~/mambaforge/envs/RTP/lib/python3.10/site-packages/h5py/_hl/dataset.py:760\u001b[0m, in \u001b[0;36mDataset.__getitem__\u001b[0;34m(self, args, new_dtype)\u001b[0m\n\u001b[1;32m    759\u001b[0m     args \u001b[38;5;241m=\u001b[39m \u001b[38;5;28mtuple\u001b[39m(x \u001b[38;5;28;01mfor\u001b[39;00m x \u001b[38;5;129;01min\u001b[39;00m args \u001b[38;5;28;01mif\u001b[39;00m \u001b[38;5;129;01mnot\u001b[39;00m \u001b[38;5;28misinstance\u001b[39m(x, \u001b[38;5;28mstr\u001b[39m))\n\u001b[0;32m--> 760\u001b[0m     \u001b[38;5;28;01mreturn\u001b[39;00m \u001b[38;5;28;43mself\u001b[39;49m\u001b[38;5;241;43m.\u001b[39;49m\u001b[43mfields\u001b[49m\u001b[43m(\u001b[49m\u001b[43mnames\u001b[49m\u001b[43m,\u001b[49m\u001b[43m \u001b[49m\u001b[43m_prior_dtype\u001b[49m\u001b[38;5;241;43m=\u001b[39;49m\u001b[43mnew_dtype\u001b[49m\u001b[43m)\u001b[49m\u001b[43m[\u001b[49m\u001b[43margs\u001b[49m\u001b[43m]\u001b[49m\n\u001b[1;32m    762\u001b[0m \u001b[38;5;28;01mif\u001b[39;00m new_dtype \u001b[38;5;129;01mis\u001b[39;00m \u001b[38;5;28;01mNone\u001b[39;00m:\n",
      "File \u001b[0;32m~/mambaforge/envs/RTP/lib/python3.10/site-packages/h5py/_hl/dataset.py:257\u001b[0m, in \u001b[0;36mFieldsWrapper.__getitem__\u001b[0;34m(self, args)\u001b[0m\n\u001b[1;32m    256\u001b[0m \u001b[38;5;28;01mdef\u001b[39;00m \u001b[38;5;21m__getitem__\u001b[39m(\u001b[38;5;28mself\u001b[39m, args):\n\u001b[0;32m--> 257\u001b[0m     data \u001b[38;5;241m=\u001b[39m \u001b[38;5;28;43mself\u001b[39;49m\u001b[38;5;241;43m.\u001b[39;49m\u001b[43m_dset\u001b[49m\u001b[38;5;241;43m.\u001b[39;49m\u001b[38;5;21;43m__getitem__\u001b[39;49m\u001b[43m(\u001b[49m\u001b[43margs\u001b[49m\u001b[43m,\u001b[49m\u001b[43m \u001b[49m\u001b[43mnew_dtype\u001b[49m\u001b[38;5;241;43m=\u001b[39;49m\u001b[38;5;28;43mself\u001b[39;49m\u001b[38;5;241;43m.\u001b[39;49m\u001b[43mread_dtype\u001b[49m\u001b[43m)\u001b[49m\n\u001b[1;32m    258\u001b[0m     \u001b[38;5;28;01mif\u001b[39;00m \u001b[38;5;28mself\u001b[39m\u001b[38;5;241m.\u001b[39mextract_field \u001b[38;5;129;01mis\u001b[39;00m \u001b[38;5;129;01mnot\u001b[39;00m \u001b[38;5;28;01mNone\u001b[39;00m:\n",
      "File \u001b[0;32mh5py/_objects.pyx:54\u001b[0m, in \u001b[0;36mh5py._objects.with_phil.wrapper\u001b[0;34m()\u001b[0m\n",
      "File \u001b[0;32mh5py/_objects.pyx:55\u001b[0m, in \u001b[0;36mh5py._objects.with_phil.wrapper\u001b[0;34m()\u001b[0m\n",
      "File \u001b[0;32m~/mambaforge/envs/RTP/lib/python3.10/site-packages/h5py/_hl/dataset.py:824\u001b[0m, in \u001b[0;36mDataset.__getitem__\u001b[0;34m(self, args, new_dtype)\u001b[0m\n\u001b[1;32m    823\u001b[0m fspace \u001b[38;5;241m=\u001b[39m selection\u001b[38;5;241m.\u001b[39mid\n\u001b[0;32m--> 824\u001b[0m \u001b[38;5;28;43mself\u001b[39;49m\u001b[38;5;241;43m.\u001b[39;49m\u001b[43mid\u001b[49m\u001b[38;5;241;43m.\u001b[39;49m\u001b[43mread\u001b[49m\u001b[43m(\u001b[49m\u001b[43mmspace\u001b[49m\u001b[43m,\u001b[49m\u001b[43m \u001b[49m\u001b[43mfspace\u001b[49m\u001b[43m,\u001b[49m\u001b[43m \u001b[49m\u001b[43marr\u001b[49m\u001b[43m,\u001b[49m\u001b[43m \u001b[49m\u001b[43mmtype\u001b[49m\u001b[43m,\u001b[49m\u001b[43m \u001b[49m\u001b[43mdxpl\u001b[49m\u001b[38;5;241;43m=\u001b[39;49m\u001b[38;5;28;43mself\u001b[39;49m\u001b[38;5;241;43m.\u001b[39;49m\u001b[43m_dxpl\u001b[49m\u001b[43m)\u001b[49m\n\u001b[1;32m    826\u001b[0m \u001b[38;5;66;03m# Patch up the output for NumPy\u001b[39;00m\n",
      "File \u001b[0;32mh5py/_objects.pyx:54\u001b[0m, in \u001b[0;36mh5py._objects.with_phil.wrapper\u001b[0;34m()\u001b[0m\n",
      "File \u001b[0;32mh5py/_objects.pyx:55\u001b[0m, in \u001b[0;36mh5py._objects.with_phil.wrapper\u001b[0;34m()\u001b[0m\n",
      "File \u001b[0;32mh5py/h5d.pyx:192\u001b[0m, in \u001b[0;36mh5py.h5d.DatasetID.read\u001b[0;34m()\u001b[0m\n",
      "File \u001b[0;32mh5py/_proxy.pyx:112\u001b[0m, in \u001b[0;36mh5py._proxy.dset_rw\u001b[0;34m()\u001b[0m\n",
      "\u001b[0;31mOSError\u001b[0m: Can't read data (can't open directory: /home/obs/mambaforge/envs/RTP/lib/hdf5/plugin)",
      "\nDuring handling of the above exception, another exception occurred:\n",
      "\u001b[0;31mUnboundLocalError\u001b[0m                         Traceback (most recent call last)",
      "Input \u001b[0;32mIn [3]\u001b[0m, in \u001b[0;36m<cell line: 2>\u001b[0;34m()\u001b[0m\n\u001b[1;32m      1\u001b[0m \u001b[38;5;66;03m# Load in data\u001b[39;00m\n\u001b[0;32m----> 2\u001b[0m HHfiles, difffiles, HHautos, diffautos, uvdx, uvdy \u001b[38;5;241m=\u001b[39m \u001b[43mutils\u001b[49m\u001b[38;5;241;43m.\u001b[39;49m\u001b[43mload_data\u001b[49m\u001b[43m(\u001b[49m\u001b[43mdata_path\u001b[49m\u001b[43m,\u001b[49m\u001b[43mJD\u001b[49m\u001b[43m)\u001b[49m\n\u001b[1;32m      4\u001b[0m uvd \u001b[38;5;241m=\u001b[39m UVData()\n\u001b[1;32m      5\u001b[0m unread \u001b[38;5;241m=\u001b[39m \u001b[38;5;28;01mTrue\u001b[39;00m\n",
      "File \u001b[0;32m~/mambaforge/envs/RTP/lib/python3.10/site-packages/hera_notebook_templates/utils.py:212\u001b[0m, in \u001b[0;36mload_data\u001b[0;34m(data_path, JD)\u001b[0m\n\u001b[1;32m    210\u001b[0m     uvd_hh\u001b[38;5;241m.\u001b[39mread(hhfile1, skip_bad_files\u001b[38;5;241m=\u001b[39m\u001b[38;5;28;01mTrue\u001b[39;00m)\n\u001b[1;32m    211\u001b[0m \u001b[38;5;28;01mexcept\u001b[39;00m:\n\u001b[0;32m--> 212\u001b[0m     hhfile \u001b[38;5;241m+\u001b[39m\u001b[38;5;241m=\u001b[39m \u001b[38;5;241m1\u001b[39m\n\u001b[1;32m    213\u001b[0m     \u001b[38;5;28;01mcontinue\u001b[39;00m\n\u001b[1;32m    214\u001b[0m unread \u001b[38;5;241m=\u001b[39m \u001b[38;5;28;01mFalse\u001b[39;00m\n",
      "\u001b[0;31mUnboundLocalError\u001b[0m: local variable 'hhfile' referenced before assignment"
     ]
    }
   ],
   "source": [
    "# Load in data\n",
    "HHfiles, difffiles, HHautos, diffautos, uvdx, uvdy = utils.load_data(data_path,JD)\n",
    "    \n",
    "uvd = UVData()\n",
    "unread = True\n",
    "readInd=0\n",
    "while unread and readInd<len(HHautos):\n",
    "    try:\n",
    "        uvd.read(HHautos[readInd])\n",
    "        unread = False\n",
    "    except:\n",
    "        readInd += 1\n",
    "        continue\n",
    "use_ants = utils.get_use_ants(uvd,statuses,JD)\n",
    "print(f'This day contains {len(use_ants)} antennas of the given status category.')\n",
    "uvd.read(HHautos[::10], skip_bad_files=True, antenna_nums = use_ants)\n",
    "lsts = uvd.lst_array\n",
    "uvdx.select(antenna_nums=use_ants)\n",
    "uvdy.select(antenna_nums=use_ants)"
   ]
  },
  {
   "cell_type": "markdown",
   "metadata": {},
   "source": [
    "## Sky Coverage Map "
   ]
  },
  {
   "cell_type": "markdown",
   "metadata": {},
   "source": [
    "Map of the sky (made using the Haslam 408MHz map). The RA/DEC range covered by this night of observation is shaded based on a 12 degree FWHM of the beam. Horizontal dashed lines represent the stripe that HERA can observe, while the shaded region is what was observed on this night. Vertical lines represent the beginning and ending LSTs of this observation. Selected sources are labelled, sources included are those in the GLEAM 4Jy catalog with a flux >10.9 Jy. Note that the map is clipped at the northern horizon."
   ]
  },
  {
   "cell_type": "code",
   "execution_count": 4,
   "metadata": {
    "execution": {
     "iopub.execute_input": "2022-09-05T15:10:04.863853Z",
     "iopub.status.busy": "2022-09-05T15:10:04.863535Z",
     "iopub.status.idle": "2022-09-05T15:10:04.881012Z",
     "shell.execute_reply": "2022-09-05T15:10:04.880406Z"
    }
   },
   "outputs": [
    {
     "ename": "NameError",
     "evalue": "name 'uvd' is not defined",
     "output_type": "error",
     "traceback": [
      "\u001b[0;31m---------------------------------------------------------------------------\u001b[0m",
      "\u001b[0;31mNameError\u001b[0m                                 Traceback (most recent call last)",
      "Input \u001b[0;32mIn [4]\u001b[0m, in \u001b[0;36m<cell line: 2>\u001b[0;34m()\u001b[0m\n\u001b[1;32m      1\u001b[0m sources \u001b[38;5;241m=\u001b[39m utils\u001b[38;5;241m.\u001b[39mgather_source_list()\n\u001b[0;32m----> 2\u001b[0m utils\u001b[38;5;241m.\u001b[39mplot_sky_map(\u001b[43muvd\u001b[49m,dec_pad\u001b[38;5;241m=\u001b[39m\u001b[38;5;241m55\u001b[39m,ra_pad\u001b[38;5;241m=\u001b[39m\u001b[38;5;241m55\u001b[39m,clip\u001b[38;5;241m=\u001b[39m\u001b[38;5;28;01mFalse\u001b[39;00m,sources\u001b[38;5;241m=\u001b[39msources)\n",
      "\u001b[0;31mNameError\u001b[0m: name 'uvd' is not defined"
     ]
    }
   ],
   "source": [
    "sources = utils.gather_source_list()\n",
    "utils.plot_sky_map(uvd,dec_pad=55,ra_pad=55,clip=False,sources=sources)"
   ]
  },
  {
   "cell_type": "markdown",
   "metadata": {},
   "source": [
    "## LST Coverage"
   ]
  },
  {
   "cell_type": "markdown",
   "metadata": {},
   "source": [
    "Shows the LSTs (in hours) and JDs for which data is collected. Green represents data, red means no data."
   ]
  },
  {
   "cell_type": "code",
   "execution_count": 5,
   "metadata": {
    "execution": {
     "iopub.execute_input": "2022-09-05T15:10:04.884527Z",
     "iopub.status.busy": "2022-09-05T15:10:04.884246Z",
     "iopub.status.idle": "2022-09-05T15:10:04.899419Z",
     "shell.execute_reply": "2022-09-05T15:10:04.898827Z"
    },
    "scrolled": false
   },
   "outputs": [
    {
     "ename": "NameError",
     "evalue": "name 'uvd' is not defined",
     "output_type": "error",
     "traceback": [
      "\u001b[0;31m---------------------------------------------------------------------------\u001b[0m",
      "\u001b[0;31mNameError\u001b[0m                                 Traceback (most recent call last)",
      "Input \u001b[0;32mIn [5]\u001b[0m, in \u001b[0;36m<cell line: 1>\u001b[0;34m()\u001b[0m\n\u001b[0;32m----> 1\u001b[0m utils\u001b[38;5;241m.\u001b[39mplot_lst_coverage(\u001b[43muvd\u001b[49m)\n",
      "\u001b[0;31mNameError\u001b[0m: name 'uvd' is not defined"
     ]
    }
   ],
   "source": [
    "utils.plot_lst_coverage(uvd)"
   ]
  },
  {
   "cell_type": "markdown",
   "metadata": {},
   "source": [
    "## Autocorrelations for a single file"
   ]
  },
  {
   "cell_type": "markdown",
   "metadata": {},
   "source": [
    "This plot shows autocorrelations for one timestamp of each antenna that is active and each polarization. For each node, antennas are ordered by SNAP number, and within that by SNAP input number. The antenna number label color corresponds to the a priori status of that antenna."
   ]
  },
  {
   "cell_type": "code",
   "execution_count": 6,
   "metadata": {
    "execution": {
     "iopub.execute_input": "2022-09-05T15:10:04.902864Z",
     "iopub.status.busy": "2022-09-05T15:10:04.902585Z",
     "iopub.status.idle": "2022-09-05T15:10:04.919470Z",
     "shell.execute_reply": "2022-09-05T15:10:04.918900Z"
    },
    "scrolled": false
   },
   "outputs": [
    {
     "ename": "NameError",
     "evalue": "name 'uvdx' is not defined",
     "output_type": "error",
     "traceback": [
      "\u001b[0;31m---------------------------------------------------------------------------\u001b[0m",
      "\u001b[0;31mNameError\u001b[0m                                 Traceback (most recent call last)",
      "Input \u001b[0;32mIn [6]\u001b[0m, in \u001b[0;36m<cell line: 2>\u001b[0;34m()\u001b[0m\n\u001b[1;32m      1\u001b[0m \u001b[38;5;66;03m### plot autos\u001b[39;00m\n\u001b[0;32m----> 2\u001b[0m utils\u001b[38;5;241m.\u001b[39mplot_autos(\u001b[43muvdx\u001b[49m, uvdy)\n",
      "\u001b[0;31mNameError\u001b[0m: name 'uvdx' is not defined"
     ]
    }
   ],
   "source": [
    "### plot autos\n",
    "utils.plot_autos(uvdx, uvdy)"
   ]
  },
  {
   "cell_type": "markdown",
   "metadata": {},
   "source": [
    "## Waterfalls of Autocorrelation Amplitudes for each Antenna and Each polarization"
   ]
  },
  {
   "cell_type": "markdown",
   "metadata": {},
   "source": [
    "These plots show autocorrelation waterfalls of each antenna that is active and whose status qualifies for this notebook. For each node, antennas are ordered by SNAP number, and within that by SNAP input number. The antenna number label color corresponds to the a priori status of that antenna."
   ]
  },
  {
   "cell_type": "code",
   "execution_count": 7,
   "metadata": {
    "execution": {
     "iopub.execute_input": "2022-09-05T15:10:04.922772Z",
     "iopub.status.busy": "2022-09-05T15:10:04.922517Z",
     "iopub.status.idle": "2022-09-05T15:10:04.937227Z",
     "shell.execute_reply": "2022-09-05T15:10:04.936669Z"
    },
    "scrolled": false
   },
   "outputs": [
    {
     "ename": "NameError",
     "evalue": "name 'uvd' is not defined",
     "output_type": "error",
     "traceback": [
      "\u001b[0;31m---------------------------------------------------------------------------\u001b[0m",
      "\u001b[0;31mNameError\u001b[0m                                 Traceback (most recent call last)",
      "Input \u001b[0;32mIn [7]\u001b[0m, in \u001b[0;36m<cell line: 1>\u001b[0;34m()\u001b[0m\n\u001b[0;32m----> 1\u001b[0m utils\u001b[38;5;241m.\u001b[39mplot_wfs(\u001b[43muvd\u001b[49m, pol \u001b[38;5;241m=\u001b[39m \u001b[38;5;241m0\u001b[39m)\n",
      "\u001b[0;31mNameError\u001b[0m: name 'uvd' is not defined"
     ]
    }
   ],
   "source": [
    "utils.plot_wfs(uvd, pol = 0)"
   ]
  },
  {
   "cell_type": "code",
   "execution_count": 8,
   "metadata": {
    "execution": {
     "iopub.execute_input": "2022-09-05T15:10:04.940257Z",
     "iopub.status.busy": "2022-09-05T15:10:04.940001Z",
     "iopub.status.idle": "2022-09-05T15:10:04.954791Z",
     "shell.execute_reply": "2022-09-05T15:10:04.954230Z"
    },
    "scrolled": false
   },
   "outputs": [
    {
     "ename": "NameError",
     "evalue": "name 'uvd' is not defined",
     "output_type": "error",
     "traceback": [
      "\u001b[0;31m---------------------------------------------------------------------------\u001b[0m",
      "\u001b[0;31mNameError\u001b[0m                                 Traceback (most recent call last)",
      "Input \u001b[0;32mIn [8]\u001b[0m, in \u001b[0;36m<cell line: 1>\u001b[0;34m()\u001b[0m\n\u001b[0;32m----> 1\u001b[0m utils\u001b[38;5;241m.\u001b[39mplot_wfs(\u001b[43muvd\u001b[49m, pol \u001b[38;5;241m=\u001b[39m \u001b[38;5;241m1\u001b[39m)\n",
      "\u001b[0;31mNameError\u001b[0m: name 'uvd' is not defined"
     ]
    }
   ],
   "source": [
    "utils.plot_wfs(uvd, pol = 1)"
   ]
  },
  {
   "cell_type": "markdown",
   "metadata": {},
   "source": [
    "## Correlation Metrics"
   ]
  },
  {
   "cell_type": "markdown",
   "metadata": {},
   "source": [
    "The first plot shows the correlation metric (described below) for a set of baseline types, as calculated at several times throughout the night. It is expected that longer baselines (darker color) will exhibit lower values than the short baselines. \n",
    "\n",
    "The matrices show the phase correlation between antennas. Using the even and odd visibilities, each pixel is calculated as (even/abs(even)) * (conj(odd)/abs(odd)), and then averaged across time and frequency. If the phases are noise-like, this value will average down to zero. If the antennas are well correlated, the phases should not be noise-like, and this value should average to 1. The lines denoting node boundaries are intended to help confirm that inter-node correlations are functioning - if they aren't, this plot will appear block-diagonal.\n",
    "\n",
    "This metric has shown to be LST locked - when comparing to other nights, be sure to compare for the same LST. It is expected that some LSTs will look much better or worse than others.\n",
    "\n",
    "Note: Within each node, the order of antennas is determined by snap, and within that by snap input number. "
   ]
  },
  {
   "cell_type": "code",
   "execution_count": 9,
   "metadata": {
    "execution": {
     "iopub.execute_input": "2022-09-05T15:10:04.958046Z",
     "iopub.status.busy": "2022-09-05T15:10:04.957797Z",
     "iopub.status.idle": "2022-09-05T15:10:04.972668Z",
     "shell.execute_reply": "2022-09-05T15:10:04.972087Z"
    },
    "scrolled": false
   },
   "outputs": [
    {
     "ename": "NameError",
     "evalue": "name 'uvd' is not defined",
     "output_type": "error",
     "traceback": [
      "\u001b[0;31m---------------------------------------------------------------------------\u001b[0m",
      "\u001b[0;31mNameError\u001b[0m                                 Traceback (most recent call last)",
      "Input \u001b[0;32mIn [9]\u001b[0m, in \u001b[0;36m<cell line: 2>\u001b[0;34m()\u001b[0m\n\u001b[1;32m      1\u001b[0m badAnts \u001b[38;5;241m=\u001b[39m []\n\u001b[0;32m----> 2\u001b[0m badAnts \u001b[38;5;241m=\u001b[39m utils\u001b[38;5;241m.\u001b[39mplotNodeAveragedSummary(\u001b[43muvd\u001b[49m,HHfiles,JD,use_ants,mat_pols\u001b[38;5;241m=\u001b[39m[\u001b[38;5;124m'\u001b[39m\u001b[38;5;124mxx\u001b[39m\u001b[38;5;124m'\u001b[39m,\u001b[38;5;124m'\u001b[39m\u001b[38;5;124myy\u001b[39m\u001b[38;5;124m'\u001b[39m,\u001b[38;5;124m'\u001b[39m\u001b[38;5;124mxy\u001b[39m\u001b[38;5;124m'\u001b[39m,\u001b[38;5;124m'\u001b[39m\u001b[38;5;124myx\u001b[39m\u001b[38;5;124m'\u001b[39m])\n",
      "\u001b[0;31mNameError\u001b[0m: name 'uvd' is not defined"
     ]
    }
   ],
   "source": [
    "badAnts = []\n",
    "badAnts = utils.plotNodeAveragedSummary(uvd,HHfiles,JD,use_ants,mat_pols=['xx','yy','xy','yx'])"
   ]
  },
  {
   "cell_type": "markdown",
   "metadata": {},
   "source": [
    "Visibility amplitude spectra for a set of redundant baselines, labeled by inter vs. intranode baselines. The red and blue should exhibit the same bandpass shape - if the red are consistently different from the blue, this indicates an issue with internode correlations.\n",
    "\n",
    "Note: antennas that were identified as bad by the correlation matrix have been removed from this plot."
   ]
  },
  {
   "cell_type": "code",
   "execution_count": 10,
   "metadata": {
    "execution": {
     "iopub.execute_input": "2022-09-05T15:10:04.975834Z",
     "iopub.status.busy": "2022-09-05T15:10:04.975583Z",
     "iopub.status.idle": "2022-09-05T15:10:04.991706Z",
     "shell.execute_reply": "2022-09-05T15:10:04.991123Z"
    },
    "scrolled": false
   },
   "outputs": [
    {
     "ename": "NameError",
     "evalue": "name 'HHfiles' is not defined",
     "output_type": "error",
     "traceback": [
      "\u001b[0;31m---------------------------------------------------------------------------\u001b[0m",
      "\u001b[0;31mNameError\u001b[0m                                 Traceback (most recent call last)",
      "Input \u001b[0;32mIn [10]\u001b[0m, in \u001b[0;36m<cell line: 1>\u001b[0;34m()\u001b[0m\n\u001b[0;32m----> 1\u001b[0m utils\u001b[38;5;241m.\u001b[39mplotVisibilitySpectra(\u001b[43mHHfiles\u001b[49m[\u001b[38;5;28mlen\u001b[39m(HHfiles)\u001b[38;5;241m/\u001b[39m\u001b[38;5;241m/\u001b[39m\u001b[38;5;241m2\u001b[39m\u001b[38;5;241m+\u001b[39m\u001b[38;5;241m1\u001b[39m], JD, use_ants, badAnts\u001b[38;5;241m=\u001b[39m[])\n",
      "\u001b[0;31mNameError\u001b[0m: name 'HHfiles' is not defined"
     ]
    }
   ],
   "source": [
    "utils.plotVisibilitySpectra(HHfiles[len(HHfiles)//2+1], JD, use_ants, badAnts=[])"
   ]
  },
  {
   "cell_type": "markdown",
   "metadata": {},
   "source": [
    "## Even and Odd File Checks"
   ]
  },
  {
   "cell_type": "markdown",
   "metadata": {},
   "source": [
    "A waterfall showing the ratio between the even and odd visibilities. The purpose of this is to highlight xengine failures, which will cause this value to fall to zero or go to infinity. If things are working properly, this value should be stable at 1. The boundaries between different x-engines are shown by the vertical white lines."
   ]
  },
  {
   "cell_type": "code",
   "execution_count": 11,
   "metadata": {
    "execution": {
     "iopub.execute_input": "2022-09-05T15:10:04.995001Z",
     "iopub.status.busy": "2022-09-05T15:10:04.994748Z",
     "iopub.status.idle": "2022-09-05T15:10:05.017342Z",
     "shell.execute_reply": "2022-09-05T15:10:05.016775Z"
    },
    "scrolled": false
   },
   "outputs": [
    {
     "ename": "NameError",
     "evalue": "name 'HHautos' is not defined",
     "output_type": "error",
     "traceback": [
      "\u001b[0;31m---------------------------------------------------------------------------\u001b[0m",
      "\u001b[0;31mNameError\u001b[0m                                 Traceback (most recent call last)",
      "Input \u001b[0;32mIn [11]\u001b[0m, in \u001b[0;36m<cell line: 1>\u001b[0;34m()\u001b[0m\n\u001b[0;32m----> 1\u001b[0m \u001b[38;5;28;01mif\u001b[39;00m \u001b[38;5;28mlen\u001b[39m(\u001b[43mHHautos\u001b[49m) \u001b[38;5;241m==\u001b[39m \u001b[38;5;28mlen\u001b[39m(diffautos):\n\u001b[1;32m      2\u001b[0m     uvd_diff \u001b[38;5;241m=\u001b[39m UVData()\n\u001b[1;32m      3\u001b[0m     uvd_diff\u001b[38;5;241m.\u001b[39mread(diffautos[::\u001b[38;5;241m10\u001b[39m], skip_bad_files\u001b[38;5;241m=\u001b[39m\u001b[38;5;28;01mTrue\u001b[39;00m, antenna_nums\u001b[38;5;241m=\u001b[39muse_ants)\n",
      "\u001b[0;31mNameError\u001b[0m: name 'HHautos' is not defined"
     ]
    }
   ],
   "source": [
    "if len(HHautos) == len(diffautos):\n",
    "    uvd_diff = UVData()\n",
    "    uvd_diff.read(diffautos[::10], skip_bad_files=True, antenna_nums=use_ants)\n",
    "    rat = utils.plotEvenOddWaterfalls(uvd,uvd_diff)\n",
    "else:\n",
    "    uvd_diff = UVData()\n",
    "    use_diffs = [f for f in diffautos if '%s/zen.%s.%s.sum.autos.uvh5' % (data_path,f.split('.')[1],f.split('.')[2]) in HHautos[::10]]\n",
    "    uvd_diff.read(use_diffs, skip_bad_files=True, antenna_nums = use_ants)\n",
    "    uvd_sum = uvd.select(times=np.unique(uvd_diff.time_array),inplace=False)\n",
    "    rat = utils.plotEvenOddWaterfalls(uvd_sum,uvd_diff)"
   ]
  },
  {
   "cell_type": "markdown",
   "metadata": {},
   "source": [
    "## Crossed Antenna Check"
   ]
  },
  {
   "cell_type": "markdown",
   "metadata": {},
   "source": [
    "These are differences between different panels of the correlation matrices shown above (see panel titles for specifics). Antennas showing as consistently blue are ones which are correlating stronger in the cross pols than in the auto pols, indicating that the antenna polarizations are likely crossed."
   ]
  },
  {
   "cell_type": "code",
   "execution_count": 12,
   "metadata": {
    "execution": {
     "iopub.execute_input": "2022-09-05T15:10:05.021226Z",
     "iopub.status.busy": "2022-09-05T15:10:05.020965Z",
     "iopub.status.idle": "2022-09-05T15:10:05.036513Z",
     "shell.execute_reply": "2022-09-05T15:10:05.035766Z"
    },
    "scrolled": false
   },
   "outputs": [
    {
     "ename": "NameError",
     "evalue": "name 'uvd' is not defined",
     "output_type": "error",
     "traceback": [
      "\u001b[0;31m---------------------------------------------------------------------------\u001b[0m",
      "\u001b[0;31mNameError\u001b[0m                                 Traceback (most recent call last)",
      "Input \u001b[0;32mIn [12]\u001b[0m, in \u001b[0;36m<cell line: 1>\u001b[0;34m()\u001b[0m\n\u001b[0;32m----> 1\u001b[0m crossedAnts \u001b[38;5;241m=\u001b[39m utils\u001b[38;5;241m.\u001b[39mplotNodeAveragedSummary(\u001b[43muvd\u001b[49m,HHfiles,JD,use_ants,mat_pols\u001b[38;5;241m=\u001b[39m[\u001b[38;5;124m'\u001b[39m\u001b[38;5;124mxx\u001b[39m\u001b[38;5;124m'\u001b[39m,\u001b[38;5;124m'\u001b[39m\u001b[38;5;124myy\u001b[39m\u001b[38;5;124m'\u001b[39m,\u001b[38;5;124m'\u001b[39m\u001b[38;5;124mxy\u001b[39m\u001b[38;5;124m'\u001b[39m,\u001b[38;5;124m'\u001b[39m\u001b[38;5;124myx\u001b[39m\u001b[38;5;124m'\u001b[39m],plotRatios\u001b[38;5;241m=\u001b[39m\u001b[38;5;28;01mTrue\u001b[39;00m,\n\u001b[1;32m      2\u001b[0m                                        plotSummary\u001b[38;5;241m=\u001b[39m\u001b[38;5;28;01mFalse\u001b[39;00m)\n",
      "\u001b[0;31mNameError\u001b[0m: name 'uvd' is not defined"
     ]
    }
   ],
   "source": [
    "crossedAnts = utils.plotNodeAveragedSummary(uvd,HHfiles,JD,use_ants,mat_pols=['xx','yy','xy','yx'],plotRatios=True,\n",
    "                                       plotSummary=False)"
   ]
  },
  {
   "cell_type": "markdown",
   "metadata": {},
   "source": [
    "## Antenna Positions"
   ]
  },
  {
   "cell_type": "markdown",
   "metadata": {},
   "source": [
    "Antennas outlined in black here have been identified by the correlation matrix as bad antennas. Antennas with a colorful outline correspond to their status as identified by ant_metrics (see above plot). Faded antennas are those not meeting the apriori status requirement for this notebook run. Gold stars are node box locations."
   ]
  },
  {
   "cell_type": "code",
   "execution_count": 13,
   "metadata": {
    "execution": {
     "iopub.execute_input": "2022-09-05T15:10:05.039860Z",
     "iopub.status.busy": "2022-09-05T15:10:05.039596Z",
     "iopub.status.idle": "2022-09-05T15:10:05.058308Z",
     "shell.execute_reply": "2022-09-05T15:10:05.057711Z"
    },
    "scrolled": false
   },
   "outputs": [
    {
     "ename": "NameError",
     "evalue": "name 'HHfiles' is not defined",
     "output_type": "error",
     "traceback": [
      "\u001b[0;31m---------------------------------------------------------------------------\u001b[0m",
      "\u001b[0;31mNameError\u001b[0m                                 Traceback (most recent call last)",
      "Input \u001b[0;32mIn [13]\u001b[0m, in \u001b[0;36m<cell line: 2>\u001b[0;34m()\u001b[0m\n\u001b[1;32m      1\u001b[0m uvd1 \u001b[38;5;241m=\u001b[39m UVData()\n\u001b[0;32m----> 2\u001b[0m uvd1\u001b[38;5;241m.\u001b[39mread(\u001b[43mHHfiles\u001b[49m[readInd], skip_bad_files\u001b[38;5;241m=\u001b[39m\u001b[38;5;28;01mTrue\u001b[39;00m)\n\u001b[1;32m      3\u001b[0m utils\u001b[38;5;241m.\u001b[39mplot_antenna_positions(uvd1, badAnts\u001b[38;5;241m=\u001b[39mbadAnts,use_ants\u001b[38;5;241m=\u001b[39muse_ants)\n",
      "\u001b[0;31mNameError\u001b[0m: name 'HHfiles' is not defined"
     ]
    }
   ],
   "source": [
    "uvd1 = UVData()\n",
    "uvd1.read(HHfiles[readInd], skip_bad_files=True)\n",
    "utils.plot_antenna_positions(uvd1, badAnts=badAnts,use_ants=use_ants)"
   ]
  },
  {
   "cell_type": "markdown",
   "metadata": {},
   "source": [
    "## Observer Inspection Plots"
   ]
  },
  {
   "cell_type": "markdown",
   "metadata": {},
   "source": [
    "Antennas of status digital_OK or better that are flagged as bad by any of the above metrics are plotted here so observers can inspect their failures in more detail. Additionally, a 'good' template has been used to identify outliers. The upper line plots are averages over the whole observation, and the lower line plots are slices of a single time in the middle of the observation. These plots are recommended diagnostics for demoting antennas to lower statuses or reporting issues. If the plots below look OK, check other plots in notebook to hunt why the antenna was flagged. NOTE: The colorbar/power scales in these plots are NOT locked between antennas OR polarizations so that the detail will be visible on all plots. Be sure to check for reasonable power levels, as this may be the reason the antenna was flagged for inspection."
   ]
  },
  {
   "cell_type": "code",
   "execution_count": 14,
   "metadata": {
    "execution": {
     "iopub.execute_input": "2022-09-05T15:10:05.061634Z",
     "iopub.status.busy": "2022-09-05T15:10:05.061368Z",
     "iopub.status.idle": "2022-09-05T15:10:05.077349Z",
     "shell.execute_reply": "2022-09-05T15:10:05.076778Z"
    },
    "scrolled": false
   },
   "outputs": [
    {
     "ename": "NameError",
     "evalue": "name 'uvd' is not defined",
     "output_type": "error",
     "traceback": [
      "\u001b[0;31m---------------------------------------------------------------------------\u001b[0m",
      "\u001b[0;31mNameError\u001b[0m                                 Traceback (most recent call last)",
      "Input \u001b[0;32mIn [14]\u001b[0m, in \u001b[0;36m<cell line: 1>\u001b[0;34m()\u001b[0m\n\u001b[0;32m----> 1\u001b[0m d, tempAnts \u001b[38;5;241m=\u001b[39m utils\u001b[38;5;241m.\u001b[39mflag_by_template(\u001b[43muvd\u001b[49m,HHautos,JD,use_ants\u001b[38;5;241m=\u001b[39muse_ants,pols\u001b[38;5;241m=\u001b[39m[\u001b[38;5;124m'\u001b[39m\u001b[38;5;124mXX\u001b[39m\u001b[38;5;124m'\u001b[39m,\u001b[38;5;124m'\u001b[39m\u001b[38;5;124mYY\u001b[39m\u001b[38;5;124m'\u001b[39m],plotMap\u001b[38;5;241m=\u001b[39m\u001b[38;5;28;01mFalse\u001b[39;00m)\n",
      "\u001b[0;31mNameError\u001b[0m: name 'uvd' is not defined"
     ]
    }
   ],
   "source": [
    "d, tempAnts = utils.flag_by_template(uvd,HHautos,JD,use_ants=use_ants,pols=['XX','YY'],plotMap=False)"
   ]
  },
  {
   "cell_type": "code",
   "execution_count": 15,
   "metadata": {
    "execution": {
     "iopub.execute_input": "2022-09-05T15:10:05.080502Z",
     "iopub.status.busy": "2022-09-05T15:10:05.080203Z",
     "iopub.status.idle": "2022-09-05T15:10:05.098407Z",
     "shell.execute_reply": "2022-09-05T15:10:05.097822Z"
    },
    "scrolled": true
   },
   "outputs": [
    {
     "ename": "NameError",
     "evalue": "name 'uvd' is not defined",
     "output_type": "error",
     "traceback": [
      "\u001b[0;31m---------------------------------------------------------------------------\u001b[0m",
      "\u001b[0;31mNameError\u001b[0m                                 Traceback (most recent call last)",
      "Input \u001b[0;32mIn [15]\u001b[0m, in \u001b[0;36m<cell line: 1>\u001b[0;34m()\u001b[0m\n\u001b[0;32m----> 1\u001b[0m inspectAnts \u001b[38;5;241m=\u001b[39m utils\u001b[38;5;241m.\u001b[39mplot_inspect_ants(\u001b[43muvd\u001b[49m,JD,badAnts\u001b[38;5;241m=\u001b[39mbadAnts,use_ants\u001b[38;5;241m=\u001b[39muse_ants,\n\u001b[1;32m      2\u001b[0m                                      tempAnts\u001b[38;5;241m=\u001b[39mtempAnts,crossedAnts\u001b[38;5;241m=\u001b[39mcrossedAnts)\n",
      "\u001b[0;31mNameError\u001b[0m: name 'uvd' is not defined"
     ]
    }
   ],
   "source": [
    "inspectAnts = utils.plot_inspect_ants(uvd,JD,badAnts=badAnts,use_ants=use_ants,\n",
    "                                     tempAnts=tempAnts,crossedAnts=crossedAnts)"
   ]
  },
  {
   "cell_type": "markdown",
   "metadata": {},
   "source": [
    "## Mean-Subtracted Waterfalls"
   ]
  },
  {
   "cell_type": "markdown",
   "metadata": {},
   "source": [
    "Here the mean value in each frequency bin has been subtracted out. This effectively subtracts out the bandpass shape, making time variations more visible."
   ]
  },
  {
   "cell_type": "code",
   "execution_count": 16,
   "metadata": {
    "execution": {
     "iopub.execute_input": "2022-09-05T15:10:05.101757Z",
     "iopub.status.busy": "2022-09-05T15:10:05.101446Z",
     "iopub.status.idle": "2022-09-05T15:10:05.118363Z",
     "shell.execute_reply": "2022-09-05T15:10:05.117790Z"
    },
    "scrolled": false
   },
   "outputs": [
    {
     "ename": "NameError",
     "evalue": "name 'uvd' is not defined",
     "output_type": "error",
     "traceback": [
      "\u001b[0;31m---------------------------------------------------------------------------\u001b[0m",
      "\u001b[0;31mNameError\u001b[0m                                 Traceback (most recent call last)",
      "Input \u001b[0;32mIn [16]\u001b[0m, in \u001b[0;36m<cell line: 1>\u001b[0;34m()\u001b[0m\n\u001b[0;32m----> 1\u001b[0m utils\u001b[38;5;241m.\u001b[39mplot_wfs(\u001b[43muvd\u001b[49m,\u001b[38;5;241m0\u001b[39m,mean_sub\u001b[38;5;241m=\u001b[39m\u001b[38;5;28;01mTrue\u001b[39;00m,jd\u001b[38;5;241m=\u001b[39mJD)\n\u001b[1;32m      2\u001b[0m utils\u001b[38;5;241m.\u001b[39mplot_wfs(uvd,\u001b[38;5;241m1\u001b[39m,mean_sub\u001b[38;5;241m=\u001b[39m\u001b[38;5;28;01mTrue\u001b[39;00m,jd\u001b[38;5;241m=\u001b[39mJD)\n",
      "\u001b[0;31mNameError\u001b[0m: name 'uvd' is not defined"
     ]
    }
   ],
   "source": [
    "utils.plot_wfs(uvd,0,mean_sub=True,jd=JD)\n",
    "utils.plot_wfs(uvd,1,mean_sub=True,jd=JD)"
   ]
  },
  {
   "cell_type": "code",
   "execution_count": null,
   "metadata": {},
   "outputs": [],
   "source": []
  }
 ],
 "metadata": {
  "kernelspec": {
   "display_name": "Python 3 (ipykernel)",
   "language": "python",
   "name": "python3"
  },
  "language_info": {
   "codemirror_mode": {
    "name": "ipython",
    "version": 3
   },
   "file_extension": ".py",
   "mimetype": "text/x-python",
   "name": "python",
   "nbconvert_exporter": "python",
   "pygments_lexer": "ipython3",
   "version": "3.10.6"
  },
  "toc": {
   "base_numbering": 1,
   "nav_menu": {},
   "number_sections": true,
   "sideBar": true,
   "skip_h1_title": false,
   "title_cell": "Table of Contents",
   "title_sidebar": "Contents",
   "toc_cell": false,
   "toc_position": {},
   "toc_section_display": true,
   "toc_window_display": false
  }
 },
 "nbformat": 4,
 "nbformat_minor": 2
}
