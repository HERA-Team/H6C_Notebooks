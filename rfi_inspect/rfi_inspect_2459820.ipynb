{
 "cells": [
  {
   "cell_type": "markdown",
   "metadata": {},
   "source": [
    "# RFI Inspection Daily RTP Notebook"
   ]
  },
  {
   "cell_type": "code",
   "execution_count": 1,
   "metadata": {
    "ExecuteTime": {
     "end_time": "2020-03-06T00:41:48.883370Z",
     "start_time": "2020-03-06T00:41:45.944574Z"
    },
    "execution": {
     "iopub.execute_input": "2022-08-29T17:18:51.680859Z",
     "iopub.status.busy": "2022-08-29T17:18:51.680061Z",
     "iopub.status.idle": "2022-08-29T17:18:52.588663Z",
     "shell.execute_reply": "2022-08-29T17:18:52.587899Z"
    }
   },
   "outputs": [
    {
     "ename": "ImportError",
     "evalue": "/lib/x86_64-linux-gnu/libz.so.1: version `ZLIB_1.2.9' not found (required by /home/obs/anaconda/envs/RTP/lib/python3.9/site-packages/matplotlib/../../.././libpng16.so.16)",
     "output_type": "error",
     "traceback": [
      "\u001b[0;31m---------------------------------------------------------------------------\u001b[0m",
      "\u001b[0;31mImportError\u001b[0m                               Traceback (most recent call last)",
      "Input \u001b[0;32mIn [1]\u001b[0m, in \u001b[0;36m<cell line: 2>\u001b[0;34m()\u001b[0m\n\u001b[1;32m      1\u001b[0m \u001b[38;5;28;01mimport\u001b[39;00m \u001b[38;5;21;01mnumpy\u001b[39;00m \u001b[38;5;28;01mas\u001b[39;00m \u001b[38;5;21;01mnp\u001b[39;00m\n\u001b[0;32m----> 2\u001b[0m \u001b[38;5;28;01mimport\u001b[39;00m \u001b[38;5;21;01mmatplotlib\u001b[39;00m\u001b[38;5;21;01m.\u001b[39;00m\u001b[38;5;21;01mpyplot\u001b[39;00m \u001b[38;5;28;01mas\u001b[39;00m \u001b[38;5;21;01mplt\u001b[39;00m\n\u001b[1;32m      3\u001b[0m \u001b[38;5;28;01mimport\u001b[39;00m \u001b[38;5;21;01mmatplotlib\u001b[39;00m\n\u001b[1;32m      4\u001b[0m \u001b[38;5;28;01mimport\u001b[39;00m \u001b[38;5;21;01mglob\u001b[39;00m\n",
      "File \u001b[0;32m~/anaconda/envs/RTP/lib/python3.9/site-packages/matplotlib/__init__.py:208\u001b[0m, in \u001b[0;36m<module>\u001b[0;34m\u001b[0m\n\u001b[1;32m    203\u001b[0m         \u001b[38;5;28;01mif\u001b[39;00m parse_version(module\u001b[38;5;241m.\u001b[39m__version__) \u001b[38;5;241m<\u001b[39m parse_version(minver):\n\u001b[1;32m    204\u001b[0m             \u001b[38;5;28;01mraise\u001b[39;00m \u001b[38;5;167;01mImportError\u001b[39;00m(\u001b[38;5;124mf\u001b[39m\u001b[38;5;124m\"\u001b[39m\u001b[38;5;124mMatplotlib requires \u001b[39m\u001b[38;5;132;01m{\u001b[39;00mmodname\u001b[38;5;132;01m}\u001b[39;00m\u001b[38;5;124m>=\u001b[39m\u001b[38;5;132;01m{\u001b[39;00mminver\u001b[38;5;132;01m}\u001b[39;00m\u001b[38;5;124m; \u001b[39m\u001b[38;5;124m\"\u001b[39m\n\u001b[1;32m    205\u001b[0m                               \u001b[38;5;124mf\u001b[39m\u001b[38;5;124m\"\u001b[39m\u001b[38;5;124myou have \u001b[39m\u001b[38;5;132;01m{\u001b[39;00mmodule\u001b[38;5;241m.\u001b[39m__version__\u001b[38;5;132;01m}\u001b[39;00m\u001b[38;5;124m\"\u001b[39m)\n\u001b[0;32m--> 208\u001b[0m \u001b[43m_check_versions\u001b[49m\u001b[43m(\u001b[49m\u001b[43m)\u001b[49m\n\u001b[1;32m    211\u001b[0m \u001b[38;5;66;03m# The decorator ensures this always returns the same handler (and it is only\u001b[39;00m\n\u001b[1;32m    212\u001b[0m \u001b[38;5;66;03m# attached once).\u001b[39;00m\n\u001b[1;32m    213\u001b[0m \u001b[38;5;129m@functools\u001b[39m\u001b[38;5;241m.\u001b[39mlru_cache()\n\u001b[1;32m    214\u001b[0m \u001b[38;5;28;01mdef\u001b[39;00m \u001b[38;5;21m_ensure_handler\u001b[39m():\n",
      "File \u001b[0;32m~/anaconda/envs/RTP/lib/python3.9/site-packages/matplotlib/__init__.py:193\u001b[0m, in \u001b[0;36m_check_versions\u001b[0;34m()\u001b[0m\n\u001b[1;32m    189\u001b[0m \u001b[38;5;28;01mdef\u001b[39;00m \u001b[38;5;21m_check_versions\u001b[39m():\n\u001b[1;32m    190\u001b[0m \n\u001b[1;32m    191\u001b[0m     \u001b[38;5;66;03m# Quickfix to ensure Microsoft Visual C++ redistributable\u001b[39;00m\n\u001b[1;32m    192\u001b[0m     \u001b[38;5;66;03m# DLLs are loaded before importing kiwisolver\u001b[39;00m\n\u001b[0;32m--> 193\u001b[0m     \u001b[38;5;28;01mfrom\u001b[39;00m \u001b[38;5;21;01m.\u001b[39;00m \u001b[38;5;28;01mimport\u001b[39;00m ft2font\n\u001b[1;32m    195\u001b[0m     \u001b[38;5;28;01mfor\u001b[39;00m modname, minver \u001b[38;5;129;01min\u001b[39;00m [\n\u001b[1;32m    196\u001b[0m             (\u001b[38;5;124m\"\u001b[39m\u001b[38;5;124mcycler\u001b[39m\u001b[38;5;124m\"\u001b[39m, \u001b[38;5;124m\"\u001b[39m\u001b[38;5;124m0.10\u001b[39m\u001b[38;5;124m\"\u001b[39m),\n\u001b[1;32m    197\u001b[0m             (\u001b[38;5;124m\"\u001b[39m\u001b[38;5;124mdateutil\u001b[39m\u001b[38;5;124m\"\u001b[39m, \u001b[38;5;124m\"\u001b[39m\u001b[38;5;124m2.7\u001b[39m\u001b[38;5;124m\"\u001b[39m),\n\u001b[0;32m   (...)\u001b[0m\n\u001b[1;32m    200\u001b[0m             (\u001b[38;5;124m\"\u001b[39m\u001b[38;5;124mpyparsing\u001b[39m\u001b[38;5;124m\"\u001b[39m, \u001b[38;5;124m\"\u001b[39m\u001b[38;5;124m2.2.1\u001b[39m\u001b[38;5;124m\"\u001b[39m),\n\u001b[1;32m    201\u001b[0m     ]:\n\u001b[1;32m    202\u001b[0m         module \u001b[38;5;241m=\u001b[39m importlib\u001b[38;5;241m.\u001b[39mimport_module(modname)\n",
      "\u001b[0;31mImportError\u001b[0m: /lib/x86_64-linux-gnu/libz.so.1: version `ZLIB_1.2.9' not found (required by /home/obs/anaconda/envs/RTP/lib/python3.9/site-packages/matplotlib/../../.././libpng16.so.16)"
     ]
    }
   ],
   "source": [
    "import numpy as np\n",
    "import matplotlib.pyplot as plt\n",
    "import matplotlib\n",
    "import glob\n",
    "import os\n",
    "from astropy import units\n",
    "from copy import deepcopy\n",
    "from pyuvdata import UVFlag\n",
    "from SSINS import INS\n",
    "from SSINS import version as SSINS_ver\n",
    "import matplotlib.colors as colors\n",
    "from matplotlib import cm\n",
    "from IPython.display import display, HTML\n",
    "\n",
    "%matplotlib inline\n",
    "%config InlineBackend.figure_format = 'retina'\n",
    "display(HTML(\"<style>.container { width:100% !important; }</style>\"))"
   ]
  },
  {
   "cell_type": "code",
   "execution_count": 2,
   "metadata": {
    "execution": {
     "iopub.execute_input": "2022-08-29T17:18:52.620372Z",
     "iopub.status.busy": "2022-08-29T17:18:52.620028Z",
     "iopub.status.idle": "2022-08-29T17:18:52.634189Z",
     "shell.execute_reply": "2022-08-29T17:18:52.633658Z"
    }
   },
   "outputs": [
    {
     "ename": "NameError",
     "evalue": "name 'os' is not defined",
     "output_type": "error",
     "traceback": [
      "\u001b[0;31m---------------------------------------------------------------------------\u001b[0m",
      "\u001b[0;31mNameError\u001b[0m                                 Traceback (most recent call last)",
      "Input \u001b[0;32mIn [2]\u001b[0m, in \u001b[0;36m<cell line: 2>\u001b[0;34m()\u001b[0m\n\u001b[1;32m      1\u001b[0m \u001b[38;5;66;03m# Use environment variables to figure out path to data\u001b[39;00m\n\u001b[0;32m----> 2\u001b[0m JD \u001b[38;5;241m=\u001b[39m \u001b[43mos\u001b[49m\u001b[38;5;241m.\u001b[39menviron[\u001b[38;5;124m'\u001b[39m\u001b[38;5;124mJULIANDATE\u001b[39m\u001b[38;5;124m'\u001b[39m]\n\u001b[1;32m      3\u001b[0m data_path \u001b[38;5;241m=\u001b[39m os\u001b[38;5;241m.\u001b[39menviron[\u001b[38;5;124m'\u001b[39m\u001b[38;5;124mDATA_PATH\u001b[39m\u001b[38;5;124m'\u001b[39m]\n\u001b[1;32m      4\u001b[0m \u001b[38;5;28mprint\u001b[39m(\u001b[38;5;124mf\u001b[39m\u001b[38;5;124m'\u001b[39m\u001b[38;5;124mJD = \u001b[39m\u001b[38;5;132;01m{\u001b[39;00mJD\u001b[38;5;132;01m}\u001b[39;00m\u001b[38;5;124m'\u001b[39m)\n",
      "\u001b[0;31mNameError\u001b[0m: name 'os' is not defined"
     ]
    }
   ],
   "source": [
    "# Use environment variables to figure out path to data\n",
    "JD = os.environ['JULIANDATE']\n",
    "data_path = os.environ['DATA_PATH']\n",
    "print(f'JD = {JD}')\n",
    "print(f'data_path = \"{data_path}\"')\n",
    "JD = int(JD)"
   ]
  },
  {
   "cell_type": "code",
   "execution_count": 3,
   "metadata": {
    "execution": {
     "iopub.execute_input": "2022-08-29T17:18:52.636708Z",
     "iopub.status.busy": "2022-08-29T17:18:52.636369Z",
     "iopub.status.idle": "2022-08-29T17:18:52.865815Z",
     "shell.execute_reply": "2022-08-29T17:18:52.865290Z"
    }
   },
   "outputs": [
    {
     "ename": "NameError",
     "evalue": "name 'JD' is not defined",
     "output_type": "error",
     "traceback": [
      "\u001b[0;31m---------------------------------------------------------------------------\u001b[0m",
      "\u001b[0;31mNameError\u001b[0m                                 Traceback (most recent call last)",
      "Input \u001b[0;32mIn [3]\u001b[0m, in \u001b[0;36m<cell line: 2>\u001b[0;34m()\u001b[0m\n\u001b[1;32m      1\u001b[0m \u001b[38;5;28;01mfrom\u001b[39;00m \u001b[38;5;21;01mastropy\u001b[39;00m\u001b[38;5;21;01m.\u001b[39;00m\u001b[38;5;21;01mtime\u001b[39;00m \u001b[38;5;28;01mimport\u001b[39;00m Time\n\u001b[0;32m----> 2\u001b[0m utc \u001b[38;5;241m=\u001b[39m Time(\u001b[43mJD\u001b[49m, \u001b[38;5;28mformat\u001b[39m\u001b[38;5;241m=\u001b[39m\u001b[38;5;124m'\u001b[39m\u001b[38;5;124mjd\u001b[39m\u001b[38;5;124m'\u001b[39m)\u001b[38;5;241m.\u001b[39mdatetime\n\u001b[1;32m      3\u001b[0m \u001b[38;5;28mprint\u001b[39m(\u001b[38;5;124mf\u001b[39m\u001b[38;5;124m'\u001b[39m\u001b[38;5;124mDate: \u001b[39m\u001b[38;5;132;01m{\u001b[39;00mutc\u001b[38;5;241m.\u001b[39mmonth\u001b[38;5;132;01m}\u001b[39;00m\u001b[38;5;124m-\u001b[39m\u001b[38;5;132;01m{\u001b[39;00mutc\u001b[38;5;241m.\u001b[39mday\u001b[38;5;132;01m}\u001b[39;00m\u001b[38;5;124m-\u001b[39m\u001b[38;5;132;01m{\u001b[39;00mutc\u001b[38;5;241m.\u001b[39myear\u001b[38;5;132;01m}\u001b[39;00m\u001b[38;5;124m'\u001b[39m)\n",
      "\u001b[0;31mNameError\u001b[0m: name 'JD' is not defined"
     ]
    }
   ],
   "source": [
    "from astropy.time import Time\n",
    "utc = Time(JD, format='jd').datetime\n",
    "print(f'Date: {utc.month}-{utc.day}-{utc.year}')"
   ]
  },
  {
   "cell_type": "code",
   "execution_count": 4,
   "metadata": {
    "execution": {
     "iopub.execute_input": "2022-08-29T17:18:52.868368Z",
     "iopub.status.busy": "2022-08-29T17:18:52.868087Z",
     "iopub.status.idle": "2022-08-29T17:18:52.881133Z",
     "shell.execute_reply": "2022-08-29T17:18:52.880617Z"
    }
   },
   "outputs": [
    {
     "ename": "NameError",
     "evalue": "name 'UVFlag' is not defined",
     "output_type": "error",
     "traceback": [
      "\u001b[0;31m---------------------------------------------------------------------------\u001b[0m",
      "\u001b[0;31mNameError\u001b[0m                                 Traceback (most recent call last)",
      "Input \u001b[0;32mIn [4]\u001b[0m, in \u001b[0;36m<cell line: 1>\u001b[0;34m()\u001b[0m\n\u001b[0;32m----> 1\u001b[0m uvf \u001b[38;5;241m=\u001b[39m \u001b[43mUVFlag\u001b[49m(\u001b[38;5;124mf\u001b[39m\u001b[38;5;124m'\u001b[39m\u001b[38;5;132;01m{\u001b[39;00mdata_path\u001b[38;5;132;01m}\u001b[39;00m\u001b[38;5;124m/zen.\u001b[39m\u001b[38;5;132;01m{\u001b[39;00mJD\u001b[38;5;132;01m}\u001b[39;00m\u001b[38;5;124m.total_stage_1_threshold_flags.h5\u001b[39m\u001b[38;5;124m'\u001b[39m)\n",
      "\u001b[0;31mNameError\u001b[0m: name 'UVFlag' is not defined"
     ]
    }
   ],
   "source": [
    "uvf = UVFlag(f'{data_path}/zen.{JD}.total_stage_1_threshold_flags.h5')"
   ]
  },
  {
   "cell_type": "code",
   "execution_count": 5,
   "metadata": {
    "execution": {
     "iopub.execute_input": "2022-08-29T17:18:52.883481Z",
     "iopub.status.busy": "2022-08-29T17:18:52.883257Z",
     "iopub.status.idle": "2022-08-29T17:18:52.904233Z",
     "shell.execute_reply": "2022-08-29T17:18:52.903709Z"
    }
   },
   "outputs": [
    {
     "ename": "NameError",
     "evalue": "name 'plt' is not defined",
     "output_type": "error",
     "traceback": [
      "\u001b[0;31m---------------------------------------------------------------------------\u001b[0m",
      "\u001b[0;31mNameError\u001b[0m                                 Traceback (most recent call last)",
      "Input \u001b[0;32mIn [5]\u001b[0m, in \u001b[0;36m<cell line: 1>\u001b[0;34m()\u001b[0m\n\u001b[0;32m----> 1\u001b[0m \u001b[43mplt\u001b[49m\u001b[38;5;241m.\u001b[39mfigure(figsize\u001b[38;5;241m=\u001b[39m(\u001b[38;5;241m16\u001b[39m,\u001b[38;5;241m12\u001b[39m))\n\u001b[1;32m      2\u001b[0m plt\u001b[38;5;241m.\u001b[39mimshow(uvf\u001b[38;5;241m.\u001b[39mflag_array[:,:,\u001b[38;5;241m0\u001b[39m], aspect\u001b[38;5;241m=\u001b[39m\u001b[38;5;124m'\u001b[39m\u001b[38;5;124mauto\u001b[39m\u001b[38;5;124m'\u001b[39m, interpolation\u001b[38;5;241m=\u001b[39m\u001b[38;5;124m'\u001b[39m\u001b[38;5;124mnone\u001b[39m\u001b[38;5;124m'\u001b[39m,\n\u001b[1;32m      3\u001b[0m            extent\u001b[38;5;241m=\u001b[39m[uvf\u001b[38;5;241m.\u001b[39mfreq_array[\u001b[38;5;241m0\u001b[39m] \u001b[38;5;241m/\u001b[39m \u001b[38;5;241m1e6\u001b[39m, uvf\u001b[38;5;241m.\u001b[39mfreq_array[\u001b[38;5;241m-\u001b[39m\u001b[38;5;241m1\u001b[39m] \u001b[38;5;241m/\u001b[39m \u001b[38;5;241m1e6\u001b[39m, \n\u001b[1;32m      4\u001b[0m                    uvf\u001b[38;5;241m.\u001b[39mtime_array[\u001b[38;5;241m-\u001b[39m\u001b[38;5;241m1\u001b[39m] \u001b[38;5;241m-\u001b[39m JD, uvf\u001b[38;5;241m.\u001b[39mtime_array[\u001b[38;5;241m0\u001b[39m] \u001b[38;5;241m-\u001b[39m JD])\n\u001b[1;32m      5\u001b[0m plt\u001b[38;5;241m.\u001b[39mxlabel(\u001b[38;5;124m'\u001b[39m\u001b[38;5;124mFrequency (MHz)\u001b[39m\u001b[38;5;124m'\u001b[39m)\n",
      "\u001b[0;31mNameError\u001b[0m: name 'plt' is not defined"
     ]
    }
   ],
   "source": [
    "plt.figure(figsize=(16,12))\n",
    "plt.imshow(uvf.flag_array[:,:,0], aspect='auto', interpolation='none',\n",
    "           extent=[uvf.freq_array[0] / 1e6, uvf.freq_array[-1] / 1e6, \n",
    "                   uvf.time_array[-1] - JD, uvf.time_array[0] - JD])\n",
    "plt.xlabel('Frequency (MHz)')\n",
    "plt.ylabel(f'JD - {JD}')\n",
    "ax2 = plt.gca().twinx()\n",
    "ax2.set_ylim([uvf.lst_array[0] * 12 / np.pi, uvf.lst_array[-1] * 12 / np.pi])\n",
    "ax2.invert_yaxis()\n",
    "ax2.set_ylabel('LST (hours)')\n",
    "ax3 = plt.gca().twiny()\n",
    "ax3.set_xlim([0, uvf.Nfreqs - 1])\n",
    "ax3.set_xlabel('Channel');"
   ]
  },
  {
   "cell_type": "markdown",
   "metadata": {},
   "source": [
    "# Figure 1(a): Full day of XRFI flags\n",
    "Yellow is flagged. Blue is unflagged."
   ]
  },
  {
   "cell_type": "code",
   "execution_count": 6,
   "metadata": {
    "execution": {
     "iopub.execute_input": "2022-08-29T17:18:52.906666Z",
     "iopub.status.busy": "2022-08-29T17:18:52.906441Z",
     "iopub.status.idle": "2022-08-29T17:18:52.922575Z",
     "shell.execute_reply": "2022-08-29T17:18:52.922053Z"
    }
   },
   "outputs": [
    {
     "ename": "NameError",
     "evalue": "name 'glob' is not defined",
     "output_type": "error",
     "traceback": [
      "\u001b[0;31m---------------------------------------------------------------------------\u001b[0m",
      "\u001b[0;31mNameError\u001b[0m                                 Traceback (most recent call last)",
      "Input \u001b[0;32mIn [6]\u001b[0m, in \u001b[0;36m<cell line: 1>\u001b[0;34m()\u001b[0m\n\u001b[0;32m----> 1\u001b[0m ssins_dirs_sorted \u001b[38;5;241m=\u001b[39m \u001b[38;5;28msorted\u001b[39m(\u001b[43mglob\u001b[49m\u001b[38;5;241m.\u001b[39mglob(\u001b[38;5;124mf\u001b[39m\u001b[38;5;124m\"\u001b[39m\u001b[38;5;132;01m{\u001b[39;00mdata_path\u001b[38;5;132;01m}\u001b[39;00m\u001b[38;5;124m/zen.\u001b[39m\u001b[38;5;132;01m{\u001b[39;00mJD\u001b[38;5;132;01m}\u001b[39;00m\u001b[38;5;124m*.SSINS\u001b[39m\u001b[38;5;124m\"\u001b[39m))\n\u001b[1;32m      2\u001b[0m init_ssins_path \u001b[38;5;241m=\u001b[39m glob\u001b[38;5;241m.\u001b[39mglob(\u001b[38;5;124mf\u001b[39m\u001b[38;5;124m\"\u001b[39m\u001b[38;5;132;01m{\u001b[39;00mssins_dirs_sorted[\u001b[38;5;241m0\u001b[39m]\u001b[38;5;132;01m}\u001b[39;00m\u001b[38;5;124m/*flags.h5\u001b[39m\u001b[38;5;124m\"\u001b[39m)\n\u001b[1;32m      3\u001b[0m ssins_uvf \u001b[38;5;241m=\u001b[39m UVFlag(init_ssins_path)\n",
      "\u001b[0;31mNameError\u001b[0m: name 'glob' is not defined"
     ]
    }
   ],
   "source": [
    "ssins_dirs_sorted = sorted(glob.glob(f\"{data_path}/zen.{JD}*.SSINS\"))\n",
    "init_ssins_path = glob.glob(f\"{ssins_dirs_sorted[0]}/*flags.h5\")\n",
    "ssins_uvf = UVFlag(init_ssins_path)\n",
    "for path in ssins_dirs_sorted[1:]:\n",
    "    new_path = glob.glob(f\"{path}/*flags.h5\")[0]\n",
    "    ssins_uvf += UVFlag(new_path)"
   ]
  },
  {
   "cell_type": "code",
   "execution_count": 7,
   "metadata": {
    "execution": {
     "iopub.execute_input": "2022-08-29T17:18:52.925096Z",
     "iopub.status.busy": "2022-08-29T17:18:52.924872Z",
     "iopub.status.idle": "2022-08-29T17:18:52.945021Z",
     "shell.execute_reply": "2022-08-29T17:18:52.944314Z"
    }
   },
   "outputs": [
    {
     "ename": "NameError",
     "evalue": "name 'plt' is not defined",
     "output_type": "error",
     "traceback": [
      "\u001b[0;31m---------------------------------------------------------------------------\u001b[0m",
      "\u001b[0;31mNameError\u001b[0m                                 Traceback (most recent call last)",
      "Input \u001b[0;32mIn [7]\u001b[0m, in \u001b[0;36m<cell line: 1>\u001b[0;34m()\u001b[0m\n\u001b[0;32m----> 1\u001b[0m \u001b[43mplt\u001b[49m\u001b[38;5;241m.\u001b[39mfigure(figsize\u001b[38;5;241m=\u001b[39m(\u001b[38;5;241m16\u001b[39m,\u001b[38;5;241m12\u001b[39m))\n\u001b[1;32m      2\u001b[0m plt\u001b[38;5;241m.\u001b[39mimshow(ssins_uvf\u001b[38;5;241m.\u001b[39mflag_array[:,:,\u001b[38;5;241m0\u001b[39m], aspect\u001b[38;5;241m=\u001b[39m\u001b[38;5;124m'\u001b[39m\u001b[38;5;124mauto\u001b[39m\u001b[38;5;124m'\u001b[39m, interpolation\u001b[38;5;241m=\u001b[39m\u001b[38;5;124m'\u001b[39m\u001b[38;5;124mnone\u001b[39m\u001b[38;5;124m'\u001b[39m,\n\u001b[1;32m      3\u001b[0m            extent\u001b[38;5;241m=\u001b[39m[ssins_uvf\u001b[38;5;241m.\u001b[39mfreq_array[\u001b[38;5;241m0\u001b[39m] \u001b[38;5;241m/\u001b[39m \u001b[38;5;241m1e6\u001b[39m, ssins_uvf\u001b[38;5;241m.\u001b[39mfreq_array[\u001b[38;5;241m-\u001b[39m\u001b[38;5;241m1\u001b[39m] \u001b[38;5;241m/\u001b[39m \u001b[38;5;241m1e6\u001b[39m, \n\u001b[1;32m      4\u001b[0m                    ssins_uvf\u001b[38;5;241m.\u001b[39mtime_array[\u001b[38;5;241m-\u001b[39m\u001b[38;5;241m1\u001b[39m] \u001b[38;5;241m-\u001b[39m JD, ssins_uvf\u001b[38;5;241m.\u001b[39mtime_array[\u001b[38;5;241m0\u001b[39m] \u001b[38;5;241m-\u001b[39m JD])\n\u001b[1;32m      5\u001b[0m plt\u001b[38;5;241m.\u001b[39mxlabel(\u001b[38;5;124m'\u001b[39m\u001b[38;5;124mFrequency (MHz)\u001b[39m\u001b[38;5;124m'\u001b[39m)\n",
      "\u001b[0;31mNameError\u001b[0m: name 'plt' is not defined"
     ]
    }
   ],
   "source": [
    "plt.figure(figsize=(16,12))\n",
    "plt.imshow(ssins_uvf.flag_array[:,:,0], aspect='auto', interpolation='none',\n",
    "           extent=[ssins_uvf.freq_array[0] / 1e6, ssins_uvf.freq_array[-1] / 1e6, \n",
    "                   ssins_uvf.time_array[-1] - JD, ssins_uvf.time_array[0] - JD])\n",
    "plt.xlabel('Frequency (MHz)')\n",
    "plt.ylabel(f'JD - {JD}')\n",
    "ax2 = plt.gca().twinx()\n",
    "ax2.set_ylim([ssins_uvf.lst_array[0] * 12 / np.pi, ssins_uvf.lst_array[-1] * 12 / np.pi])\n",
    "ax2.invert_yaxis()\n",
    "ax2.set_ylabel('LST (hours)')\n",
    "ax3 = plt.gca().twiny()\n",
    "ax3.set_xlim([0, ssins_uvf.Nfreqs - 1])\n",
    "ax3.set_xlabel('Channel');"
   ]
  },
  {
   "cell_type": "markdown",
   "metadata": {},
   "source": [
    "# Figure 1(b): Full day of SSINS flags\n",
    "FM is manually flagged at the beginning."
   ]
  },
  {
   "cell_type": "code",
   "execution_count": 8,
   "metadata": {
    "execution": {
     "iopub.execute_input": "2022-08-29T17:18:52.948249Z",
     "iopub.status.busy": "2022-08-29T17:18:52.947966Z",
     "iopub.status.idle": "2022-08-29T17:18:52.980819Z",
     "shell.execute_reply": "2022-08-29T17:18:52.980306Z"
    }
   },
   "outputs": [
    {
     "ename": "NameError",
     "evalue": "name 'plt' is not defined",
     "output_type": "error",
     "traceback": [
      "\u001b[0;31m---------------------------------------------------------------------------\u001b[0m",
      "\u001b[0;31mNameError\u001b[0m                                 Traceback (most recent call last)",
      "Input \u001b[0;32mIn [8]\u001b[0m, in \u001b[0;36m<cell line: 1>\u001b[0;34m()\u001b[0m\n\u001b[0;32m----> 1\u001b[0m \u001b[43mplt\u001b[49m\u001b[38;5;241m.\u001b[39mfigure(figsize\u001b[38;5;241m=\u001b[39m(\u001b[38;5;241m16\u001b[39m,\u001b[38;5;241m12\u001b[39m))\n\u001b[1;32m      2\u001b[0m flag_table \u001b[38;5;241m=\u001b[39m np\u001b[38;5;241m.\u001b[39mzeros_like(uvf\u001b[38;5;241m.\u001b[39mflag_array[:, :, \u001b[38;5;241m0\u001b[39m])\u001b[38;5;241m.\u001b[39mastype(\u001b[38;5;28mfloat\u001b[39m)\n\u001b[1;32m      3\u001b[0m flag_table[np\u001b[38;5;241m.\u001b[39mlogical_and(ssins_uvf\u001b[38;5;241m.\u001b[39mflag_array[:, :, \u001b[38;5;241m0\u001b[39m], uvf\u001b[38;5;241m.\u001b[39mflag_array[:, :, \u001b[38;5;241m0\u001b[39m])] \u001b[38;5;241m=\u001b[39m \u001b[38;5;241m0.75\u001b[39m\n",
      "\u001b[0;31mNameError\u001b[0m: name 'plt' is not defined"
     ]
    }
   ],
   "source": [
    "plt.figure(figsize=(16,12))\n",
    "flag_table = np.zeros_like(uvf.flag_array[:, :, 0]).astype(float)\n",
    "flag_table[np.logical_and(ssins_uvf.flag_array[:, :, 0], uvf.flag_array[:, :, 0])] = 0.75\n",
    "flag_table[np.logical_and(ssins_uvf.flag_array[:, :, 0], np.logical_not(uvf.flag_array[:, :, 0]))] = 0.5\n",
    "flag_table[np.logical_and(np.logical_not(ssins_uvf.flag_array[:, :, 0]), uvf.flag_array[:, :, 0])] = 0.25\n",
    "\n",
    "# Prepare a colormap.\n",
    "cmap = plt.cm.colors.ListedColormap(\n",
    "    [\"slategray\", \"darkturquoise\", \"plum\", \"lemonchiffon\"]\n",
    ")\n",
    "print(cmap.__dict__)\n",
    "\n",
    "\n",
    "cax = plt.imshow(flag_table, aspect='auto', interpolation='none', \n",
    "                 extent=[uvf.freq_array[0] / 1e6, uvf.freq_array[-1] / 1e6, \n",
    "                 uvf.time_array[-1] - JD, uvf.time_array[0] - JD],\n",
    "                 cmap=cmap,\n",
    "                 vmin=0, vmax=1)\n",
    "plt.xlabel('Frequency (MHz)')\n",
    "plt.ylabel(f'JD - {JD}')\n",
    "ax2 = plt.gca().twinx()\n",
    "ax2.set_ylim([ssins_uvf.lst_array[0] * 12 / np.pi, ssins_uvf.lst_array[-1] * 12 / np.pi])\n",
    "ax2.invert_yaxis()\n",
    "ax2.set_ylabel('LST (hours)')\n",
    "ax3 = plt.gca().twiny()\n",
    "ax3.set_xlim([0, ssins_uvf.Nfreqs - 1])\n",
    "ax3.set_xlabel('Channel');\n",
    "\n",
    "cbar_ticklabels = [\"Flagged in Neither\", \"Flagged in XRFI\", \"Flagged in SSINS\", \"Flagged in Both\"]\n",
    "\n",
    "# Configure the colorbar so that labels are at the center of each section.\n",
    "cbar = plt.colorbar(cax)\n",
    "cbar_ticks = np.arange(0.125, 1.125, 0.25)\n",
    "cbar.set_ticks(cbar_ticks)\n",
    "cbar.set_ticklabels(cbar_ticklabels);"
   ]
  },
  {
   "cell_type": "markdown",
   "metadata": {},
   "source": [
    "# Figure 1(c): Flag Agreement/Disagreement"
   ]
  },
  {
   "cell_type": "code",
   "execution_count": 9,
   "metadata": {
    "execution": {
     "iopub.execute_input": "2022-08-29T17:18:52.983996Z",
     "iopub.status.busy": "2022-08-29T17:18:52.983052Z",
     "iopub.status.idle": "2022-08-29T17:18:53.000389Z",
     "shell.execute_reply": "2022-08-29T17:18:52.999853Z"
    }
   },
   "outputs": [
    {
     "ename": "NameError",
     "evalue": "name 'glob' is not defined",
     "output_type": "error",
     "traceback": [
      "\u001b[0;31m---------------------------------------------------------------------------\u001b[0m",
      "\u001b[0;31mNameError\u001b[0m                                 Traceback (most recent call last)",
      "Input \u001b[0;32mIn [9]\u001b[0m, in \u001b[0;36m<cell line: 1>\u001b[0;34m()\u001b[0m\n\u001b[0;32m----> 1\u001b[0m xrfi_dirs \u001b[38;5;241m=\u001b[39m \u001b[38;5;28msorted\u001b[39m(\u001b[43mglob\u001b[49m\u001b[38;5;241m.\u001b[39mglob(\u001b[38;5;124mf\u001b[39m\u001b[38;5;124m'\u001b[39m\u001b[38;5;132;01m{\u001b[39;00mdata_path\u001b[38;5;132;01m}\u001b[39;00m\u001b[38;5;124m/zen.\u001b[39m\u001b[38;5;132;01m{\u001b[39;00mJD\u001b[38;5;132;01m}\u001b[39;00m\u001b[38;5;124m.?????.stage_1_xrfi\u001b[39m\u001b[38;5;124m'\u001b[39m))\n\u001b[1;32m      2\u001b[0m \u001b[38;5;28mprint\u001b[39m(\u001b[38;5;124mf\u001b[39m\u001b[38;5;124m'\u001b[39m\u001b[38;5;124mFound \u001b[39m\u001b[38;5;132;01m{\u001b[39;00m\u001b[38;5;28mlen\u001b[39m(xrfi_dirs)\u001b[38;5;132;01m}\u001b[39;00m\u001b[38;5;124m directories containing XRFI intermediate data products.\u001b[39m\u001b[38;5;124m'\u001b[39m)\n\u001b[1;32m      3\u001b[0m files1 \u001b[38;5;241m=\u001b[39m [glob\u001b[38;5;241m.\u001b[39mglob(\u001b[38;5;124mf\u001b[39m\u001b[38;5;124m'\u001b[39m\u001b[38;5;132;01m{\u001b[39;00md\u001b[38;5;132;01m}\u001b[39;00m\u001b[38;5;124m/*combined_metrics1.h5\u001b[39m\u001b[38;5;124m'\u001b[39m)[\u001b[38;5;241m0\u001b[39m] \u001b[38;5;28;01mfor\u001b[39;00m d \u001b[38;5;129;01min\u001b[39;00m xrfi_dirs]\n",
      "\u001b[0;31mNameError\u001b[0m: name 'glob' is not defined"
     ]
    }
   ],
   "source": [
    "xrfi_dirs = sorted(glob.glob(f'{data_path}/zen.{JD}.?????.stage_1_xrfi'))\n",
    "print(f'Found {len(xrfi_dirs)} directories containing XRFI intermediate data products.')\n",
    "files1 = [glob.glob(f'{d}/*combined_metrics1.h5')[0] for d in xrfi_dirs]\n",
    "print(f'Found {len(files1)} combined round 1 XRFI metrics files.')\n",
    "files2 = [glob.glob(f'{d}/*combined_metrics2.h5')[0] for d in xrfi_dirs]\n",
    "print(f'Found {len(files2)} combined round 2 XRFI metrics files.')\n",
    "uvf1 = UVFlag(files1)\n",
    "uvf2 = UVFlag(files2)\n",
    "uvf2.metric_array = np.where(np.isinf(uvf2.metric_array), uvf1.metric_array,\n",
    "                             uvf2.metric_array)"
   ]
  },
  {
   "cell_type": "code",
   "execution_count": 10,
   "metadata": {
    "execution": {
     "iopub.execute_input": "2022-08-29T17:18:53.002986Z",
     "iopub.status.busy": "2022-08-29T17:18:53.002764Z",
     "iopub.status.idle": "2022-08-29T17:18:53.029010Z",
     "shell.execute_reply": "2022-08-29T17:18:53.028477Z"
    }
   },
   "outputs": [
    {
     "ename": "NameError",
     "evalue": "name 'plt' is not defined",
     "output_type": "error",
     "traceback": [
      "\u001b[0;31m---------------------------------------------------------------------------\u001b[0m",
      "\u001b[0;31mNameError\u001b[0m                                 Traceback (most recent call last)",
      "Input \u001b[0;32mIn [10]\u001b[0m, in \u001b[0;36m<cell line: 1>\u001b[0;34m()\u001b[0m\n\u001b[0;32m----> 1\u001b[0m \u001b[43mplt\u001b[49m\u001b[38;5;241m.\u001b[39mfigure(figsize\u001b[38;5;241m=\u001b[39m(\u001b[38;5;241m16\u001b[39m,\u001b[38;5;241m12\u001b[39m))\n\u001b[1;32m      2\u001b[0m max_abs \u001b[38;5;241m=\u001b[39m \u001b[38;5;241m100\u001b[39m\n\u001b[1;32m      3\u001b[0m \u001b[38;5;28;01mif\u001b[39;00m np\u001b[38;5;241m.\u001b[39mmax(uvf2\u001b[38;5;241m.\u001b[39mmetric_array) \u001b[38;5;241m>\u001b[39m max_abs:\n",
      "\u001b[0;31mNameError\u001b[0m: name 'plt' is not defined"
     ]
    }
   ],
   "source": [
    "plt.figure(figsize=(16,12))\n",
    "max_abs = 100\n",
    "if np.max(uvf2.metric_array) > max_abs:\n",
    "    extend = 'max'\n",
    "    if np.min(uvf2.metric_array) < -max_abs:\n",
    "        extend = 'both'\n",
    "elif np.min(uvf2.metric_array) < -max_abs:\n",
    "    extend = 'min'    \n",
    "else:\n",
    "    extend = 'neither'\n",
    "\n",
    "plt.imshow(uvf2.metric_array[:,:,0], aspect='auto', cmap='RdBu_r', interpolation='none', \n",
    "           norm=colors.SymLogNorm(linthresh=1,vmin=-max_abs, vmax=max_abs), \n",
    "           extent=[uvf.freq_array[0] / 1e6, uvf.freq_array[-1] / 1e6, \n",
    "                   uvf.time_array[-1] - JD, uvf.time_array[0] - JD])\n",
    "plt.colorbar(pad=.07, extend=extend,\n",
    "             label='RFI Detection Significance ($\\sigma$s)')\n",
    "plt.title('Combined XRFI Metrics')\n",
    "plt.xlabel('Frequency (MHz)')\n",
    "plt.ylabel(f'JD - {JD}')\n",
    "ax2 = plt.gca().twinx()\n",
    "ax2.set_ylim([uvf.lst_array[0] * 12 / np.pi, uvf.lst_array[-1] * 12 / np.pi])\n",
    "ax2.invert_yaxis()\n",
    "ax2.set_ylabel('LST (hours)')\n",
    "ax3 = plt.gca().twiny()\n",
    "ax3.set_xlim([0, uvf.Nfreqs - 1])\n",
    "ax3.set_xlabel('Channel');"
   ]
  },
  {
   "cell_type": "markdown",
   "metadata": {},
   "source": [
    "## Figure 2(a): Combined XRFI Detection Significance\n",
    "This figure shows round 2 XRFI metrics (mean filter outliers) combined in quadrature. When flagged in round 1 of XRFI, round 1's combined median filter metrics are used instead. "
   ]
  },
  {
   "cell_type": "code",
   "execution_count": 11,
   "metadata": {
    "execution": {
     "iopub.execute_input": "2022-08-29T17:18:53.031663Z",
     "iopub.status.busy": "2022-08-29T17:18:53.031441Z",
     "iopub.status.idle": "2022-08-29T17:18:53.037219Z",
     "shell.execute_reply": "2022-08-29T17:18:53.036726Z"
    }
   },
   "outputs": [],
   "source": [
    "def make_sig_arr(ins, sig_arr, event_arr):\n",
    "    for event in ins.match_events:\n",
    "        nomask = np.logical_not(ins.metric_ms.mask[event[:2]])\n",
    "        if event.sig is not None:\n",
    "            event_arr[event[:2]] = event.sig\n",
    "        else:\n",
    "            event_arr[event[:2]][nomask] = ins.metric_ms[event[:2]][nomask]\n",
    "        sig_arr[event[:2]][nomask] = ins.metric_ms[event[:2]][nomask]\n",
    "        ins.metric_array[event[:2]] = np.ma.masked\n",
    "        ins.metric_ms[:, event[1]] = ins.mean_subtract(freq_slice=event.freq_slice)\n",
    "    nomask = np.logical_not(ins.metric_ms.mask)\n",
    "    sig_arr[nomask] = ins.metric_ms[nomask]\n",
    "    event_arr[nomask] = ins.metric_ms[nomask]\n",
    "            \n",
    "        \n",
    "    return(sig_arr, event_arr)"
   ]
  },
  {
   "cell_type": "code",
   "execution_count": 12,
   "metadata": {
    "execution": {
     "iopub.execute_input": "2022-08-29T17:18:53.039789Z",
     "iopub.status.busy": "2022-08-29T17:18:53.039569Z",
     "iopub.status.idle": "2022-08-29T17:18:53.060409Z",
     "shell.execute_reply": "2022-08-29T17:18:53.059474Z"
    }
   },
   "outputs": [
    {
     "ename": "NameError",
     "evalue": "name 'glob' is not defined",
     "output_type": "error",
     "traceback": [
      "\u001b[0;31m---------------------------------------------------------------------------\u001b[0m",
      "\u001b[0;31mNameError\u001b[0m                                 Traceback (most recent call last)",
      "Input \u001b[0;32mIn [12]\u001b[0m, in \u001b[0;36m<cell line: 1>\u001b[0;34m()\u001b[0m\n\u001b[0;32m----> 1\u001b[0m init_ssins_path_data \u001b[38;5;241m=\u001b[39m \u001b[43mglob\u001b[49m\u001b[38;5;241m.\u001b[39mglob(\u001b[38;5;124mf\u001b[39m\u001b[38;5;124m\"\u001b[39m\u001b[38;5;132;01m{\u001b[39;00mssins_dirs_sorted[\u001b[38;5;241m0\u001b[39m]\u001b[38;5;132;01m}\u001b[39;00m\u001b[38;5;124m/*data.h5\u001b[39m\u001b[38;5;124m\"\u001b[39m)[\u001b[38;5;241m0\u001b[39m]\n\u001b[1;32m      2\u001b[0m init_ssins_path_match_events \u001b[38;5;241m=\u001b[39m glob\u001b[38;5;241m.\u001b[39mglob(\u001b[38;5;124mf\u001b[39m\u001b[38;5;124m\"\u001b[39m\u001b[38;5;132;01m{\u001b[39;00mssins_dirs_sorted[\u001b[38;5;241m0\u001b[39m]\u001b[38;5;132;01m}\u001b[39;00m\u001b[38;5;124m/*match_events.yml\u001b[39m\u001b[38;5;124m\"\u001b[39m)[\u001b[38;5;241m0\u001b[39m]\n\u001b[1;32m      3\u001b[0m init_ssins \u001b[38;5;241m=\u001b[39m INS(init_ssins_path_data, match_events_file\u001b[38;5;241m=\u001b[39minit_ssins_path_match_events)\n",
      "\u001b[0;31mNameError\u001b[0m: name 'glob' is not defined"
     ]
    }
   ],
   "source": [
    "init_ssins_path_data = glob.glob(f\"{ssins_dirs_sorted[0]}/*data.h5\")[0]\n",
    "init_ssins_path_match_events = glob.glob(f\"{ssins_dirs_sorted[0]}/*match_events.yml\")[0]\n",
    "init_ssins = INS(init_ssins_path_data, match_events_file=init_ssins_path_match_events)\n",
    "init_sig_arr = np.ma.copy(init_ssins.metric_ms)\n",
    "init_event_arr = np.ma.copy(init_sig_arr)\n",
    "sig_arr, event_arr = make_sig_arr(init_ssins, init_sig_arr, init_event_arr)\n",
    "\n",
    "for ssins_dir in ssins_dirs_sorted[1:]:\n",
    "    ssins_path_data = glob.glob(f\"{ssins_dir}/*data.h5\")[0]\n",
    "    ssins_path_match_events = glob.glob(f\"{ssins_dir}/*match_events.yml\")[0]\n",
    "    ssins = INS(ssins_path_data, match_events_file=ssins_path_match_events)\n",
    "    init_ssins += ssins\n",
    "    \n",
    "    new_sig_arr = np.ma.copy(ssins.metric_ms)\n",
    "    new_event_arr = np.ma.copy(new_sig_arr)\n",
    "    \n",
    "    new_sig_arr, new_event_arr = make_sig_arr(ssins, new_sig_arr, new_event_arr)\n",
    "    \n",
    "    sig_arr = np.concatenate([sig_arr, new_sig_arr], axis=0)\n",
    "    event_arr = np.concatenate([event_arr, new_event_arr], axis=0)"
   ]
  },
  {
   "cell_type": "code",
   "execution_count": 13,
   "metadata": {
    "execution": {
     "iopub.execute_input": "2022-08-29T17:18:53.063623Z",
     "iopub.status.busy": "2022-08-29T17:18:53.063341Z",
     "iopub.status.idle": "2022-08-29T17:18:53.086293Z",
     "shell.execute_reply": "2022-08-29T17:18:53.085755Z"
    }
   },
   "outputs": [
    {
     "ename": "NameError",
     "evalue": "name 'plt' is not defined",
     "output_type": "error",
     "traceback": [
      "\u001b[0;31m---------------------------------------------------------------------------\u001b[0m",
      "\u001b[0;31mNameError\u001b[0m                                 Traceback (most recent call last)",
      "Input \u001b[0;32mIn [13]\u001b[0m, in \u001b[0;36m<cell line: 1>\u001b[0;34m()\u001b[0m\n\u001b[0;32m----> 1\u001b[0m \u001b[43mplt\u001b[49m\u001b[38;5;241m.\u001b[39mfigure(figsize\u001b[38;5;241m=\u001b[39m(\u001b[38;5;241m16\u001b[39m,\u001b[38;5;241m12\u001b[39m))\n\u001b[1;32m      3\u001b[0m cmap \u001b[38;5;241m=\u001b[39m cm\u001b[38;5;241m.\u001b[39mplasma\n\u001b[1;32m      4\u001b[0m cmap\u001b[38;5;241m.\u001b[39mset_bad(\u001b[38;5;124m'\u001b[39m\u001b[38;5;124mwhite\u001b[39m\u001b[38;5;124m'\u001b[39m)\n",
      "\u001b[0;31mNameError\u001b[0m: name 'plt' is not defined"
     ]
    }
   ],
   "source": [
    "plt.figure(figsize=(16,12))\n",
    "    \n",
    "cmap = cm.plasma\n",
    "cmap.set_bad('white')\n",
    "\n",
    "plt.imshow(init_ssins.metric_array[:,:,0], aspect='auto', cmap=cmap, interpolation='none', \n",
    "           vmax=4e4, \n",
    "           extent=[ssins_uvf.freq_array[0] / 1e6, ssins_uvf.freq_array[-1] / 1e6, \n",
    "                   ssins_uvf.time_array[-1] - JD, ssins_uvf.time_array[0] - JD])\n",
    "plt.colorbar(pad=.07, extend='neither',\n",
    "             label='SSINS (Corr. Units)')\n",
    "plt.title('SSINS')\n",
    "plt.xlabel('Frequency (MHz)')\n",
    "plt.ylabel(f'JD - {JD}')\n",
    "ax2 = plt.gca().twinx()\n",
    "ax2.set_ylim([ssins_uvf.lst_array[0] * 12 / np.pi, ssins_uvf.lst_array[-1] * 12 / np.pi])\n",
    "ax2.invert_yaxis()\n",
    "ax2.set_ylabel('LST (hours)')\n",
    "ax3 = plt.gca().twiny()\n",
    "ax3.set_xlim([0, ssins_uvf.Nfreqs - 1])\n",
    "ax3.set_xlabel('Channel');\n",
    "\n"
   ]
  },
  {
   "cell_type": "markdown",
   "metadata": {},
   "source": [
    "# Figure 2(b): SSINS XX Waterfall"
   ]
  },
  {
   "cell_type": "code",
   "execution_count": 14,
   "metadata": {
    "execution": {
     "iopub.execute_input": "2022-08-29T17:18:53.088965Z",
     "iopub.status.busy": "2022-08-29T17:18:53.088729Z",
     "iopub.status.idle": "2022-08-29T17:18:53.164217Z",
     "shell.execute_reply": "2022-08-29T17:18:53.163698Z"
    }
   },
   "outputs": [
    {
     "ename": "NameError",
     "evalue": "name 'plt' is not defined",
     "output_type": "error",
     "traceback": [
      "\u001b[0;31m---------------------------------------------------------------------------\u001b[0m",
      "\u001b[0;31mNameError\u001b[0m                                 Traceback (most recent call last)",
      "Input \u001b[0;32mIn [14]\u001b[0m, in \u001b[0;36m<cell line: 1>\u001b[0;34m()\u001b[0m\n\u001b[0;32m----> 1\u001b[0m fig, ax \u001b[38;5;241m=\u001b[39m \u001b[43mplt\u001b[49m\u001b[38;5;241m.\u001b[39msubplots(figsize\u001b[38;5;241m=\u001b[39m(\u001b[38;5;241m16\u001b[39m,\u001b[38;5;241m12\u001b[39m), nrows\u001b[38;5;241m=\u001b[39m\u001b[38;5;241m2\u001b[39m)\n\u001b[1;32m      2\u001b[0m max_abs \u001b[38;5;241m=\u001b[39m \u001b[38;5;241m100\u001b[39m\n\u001b[1;32m      3\u001b[0m \u001b[38;5;28;01mif\u001b[39;00m np\u001b[38;5;241m.\u001b[39mmax(sig_arr) \u001b[38;5;241m>\u001b[39m max_abs:\n",
      "\u001b[0;31mNameError\u001b[0m: name 'plt' is not defined"
     ]
    }
   ],
   "source": [
    "fig, ax = plt.subplots(figsize=(16,12), nrows=2)\n",
    "max_abs = 100\n",
    "if np.max(sig_arr) > max_abs:\n",
    "    extend = 'max'\n",
    "    if np.min(sig_arr) < -max_abs:\n",
    "        extend = 'both'\n",
    "elif np.min(sig_arr) < -max_abs:\n",
    "    extend = 'min'    \n",
    "else:\n",
    "    extend = 'neither'\n",
    "    \n",
    "cmap = cm.RdBu_r\n",
    "cmap.set_bad('black')\n",
    "\n",
    "cax = [None, None]\n",
    "\n",
    "cax[0] = ax[0].imshow(sig_arr[:,:,0], aspect='auto', cmap=cmap, interpolation='none',\n",
    "                      norm=colors.SymLogNorm(linthresh=1,vmin=-max_abs, vmax=max_abs), \n",
    "                      extent=[ssins_uvf.freq_array[0] / 1e6, ssins_uvf.freq_array[-1] / 1e6, \n",
    "                              ssins_uvf.time_array[-1] - JD, ssins_uvf.time_array[0] - JD])\n",
    "\n",
    "cax[1] = ax[1].imshow(event_arr[:,:,0], aspect='auto', cmap=cmap, interpolation='none',\n",
    "                      norm=colors.SymLogNorm(linthresh=1,vmin=-max_abs, vmax=max_abs), \n",
    "                      extent=[ssins_uvf.freq_array[0] / 1e6, ssins_uvf.freq_array[-1] / 1e6, \n",
    "                              ssins_uvf.time_array[-1] - JD, ssins_uvf.time_array[0] - JD])\n",
    "fig.colorbar(cax[0], pad=.07, extend=extend, ax=ax[0],\n",
    "             label='SSINS Detection Significance (Sample) [$\\sigma$s]')\n",
    "fig.colorbar(cax[1], pad=.07, extend=extend, ax=ax[1],\n",
    "             label='SSINS Detection Significance (Event) [$\\sigma$s]')\n",
    "fig.suptitle('SSINS Detection Significance')\n",
    "ax[0].set_xlabel('Frequency (MHz)')\n",
    "ax[0].set_ylabel(f'JD - {JD}')\n",
    "\n",
    "ax[1].set_xlabel('Frequency (MHz)')\n",
    "ax[1].set_ylabel(f'JD - {JD}')\n",
    "\n",
    "ax2 = ax[0].twinx()\n",
    "ax2.set_ylim([ssins_uvf.lst_array[0] * 12 / np.pi, ssins_uvf.lst_array[-1] * 12 / np.pi])\n",
    "ax2.invert_yaxis()\n",
    "ax2.set_ylabel('LST (hours)')\n",
    "ax3 = ax[0].twiny()\n",
    "ax3.set_xlim([0, ssins_uvf.Nfreqs - 1])\n",
    "ax3.set_xlabel('Channel');\n",
    "\n",
    "ax4 = ax[1].twinx()\n",
    "ax4.set_ylim([ssins_uvf.lst_array[0] * 12 / np.pi, ssins_uvf.lst_array[-1] * 12 / np.pi])\n",
    "ax4.invert_yaxis()\n",
    "ax4.set_ylabel('LST (hours)')\n",
    "ax5 = ax[1].twiny()\n",
    "ax5.set_xlim([0, ssins_uvf.Nfreqs - 1])\n",
    "ax5.set_xlabel('Channel');\n"
   ]
  },
  {
   "cell_type": "markdown",
   "metadata": {},
   "source": [
    "# Figure 2(c) SSINS XX detection significance\n",
    "Shamelessly copied/pasted code from 2(a). Could write a function in the future. Slightly wrong time axis due to missing integration around chunk boundary in SSINS. "
   ]
  },
  {
   "cell_type": "code",
   "execution_count": 15,
   "metadata": {
    "execution": {
     "iopub.execute_input": "2022-08-29T17:18:53.167039Z",
     "iopub.status.busy": "2022-08-29T17:18:53.166701Z",
     "iopub.status.idle": "2022-08-29T17:18:53.183191Z",
     "shell.execute_reply": "2022-08-29T17:18:53.182676Z"
    }
   },
   "outputs": [
    {
     "ename": "NameError",
     "evalue": "name 'xrfi_dirs' is not defined",
     "output_type": "error",
     "traceback": [
      "\u001b[0;31m---------------------------------------------------------------------------\u001b[0m",
      "\u001b[0;31mNameError\u001b[0m                                 Traceback (most recent call last)",
      "Input \u001b[0;32mIn [15]\u001b[0m, in \u001b[0;36m<cell line: 2>\u001b[0;34m()\u001b[0m\n\u001b[1;32m      1\u001b[0m \u001b[38;5;66;03m# Load in the flags from each round of XRFI flagging\u001b[39;00m\n\u001b[1;32m      2\u001b[0m round_1_flag_files \u001b[38;5;241m=\u001b[39m [\n\u001b[1;32m      3\u001b[0m     glob\u001b[38;5;241m.\u001b[39mglob(os\u001b[38;5;241m.\u001b[39mpath\u001b[38;5;241m.\u001b[39mjoin(xrfi_dir, \u001b[38;5;124m\"\u001b[39m\u001b[38;5;124m*.flags1.h5\u001b[39m\u001b[38;5;124m\"\u001b[39m))[\u001b[38;5;241m0\u001b[39m]\n\u001b[0;32m----> 4\u001b[0m     \u001b[38;5;28;01mfor\u001b[39;00m xrfi_dir \u001b[38;5;129;01min\u001b[39;00m \u001b[43mxrfi_dirs\u001b[49m\n\u001b[1;32m      5\u001b[0m ]\n\u001b[1;32m      6\u001b[0m round_2_flag_files \u001b[38;5;241m=\u001b[39m [f\u001b[38;5;241m.\u001b[39mreplace(\u001b[38;5;124m\"\u001b[39m\u001b[38;5;124mflags1\u001b[39m\u001b[38;5;124m\"\u001b[39m, \u001b[38;5;124m\"\u001b[39m\u001b[38;5;124mflags2\u001b[39m\u001b[38;5;124m\"\u001b[39m) \u001b[38;5;28;01mfor\u001b[39;00m f \u001b[38;5;129;01min\u001b[39;00m round_1_flag_files]\n\u001b[1;32m      7\u001b[0m thresh_flag_file \u001b[38;5;241m=\u001b[39m \u001b[38;5;124mf\u001b[39m\u001b[38;5;124m'\u001b[39m\u001b[38;5;132;01m{\u001b[39;00mdata_path\u001b[38;5;132;01m}\u001b[39;00m\u001b[38;5;124m/zen.\u001b[39m\u001b[38;5;132;01m{\u001b[39;00mJD\u001b[38;5;132;01m}\u001b[39;00m\u001b[38;5;124m.total_stage_1_threshold_flags.h5\u001b[39m\u001b[38;5;124m'\u001b[39m\n",
      "\u001b[0;31mNameError\u001b[0m: name 'xrfi_dirs' is not defined"
     ]
    }
   ],
   "source": [
    "# Load in the flags from each round of XRFI flagging\n",
    "round_1_flag_files = [\n",
    "    glob.glob(os.path.join(xrfi_dir, \"*.flags1.h5\"))[0]\n",
    "    for xrfi_dir in xrfi_dirs\n",
    "]\n",
    "round_2_flag_files = [f.replace(\"flags1\", \"flags2\") for f in round_1_flag_files]\n",
    "thresh_flag_file = f'{data_path}/zen.{JD}.total_stage_1_threshold_flags.h5'\n",
    "round_1_uvf = UVFlag(round_1_flag_files)\n",
    "round_2_uvf = UVFlag(round_2_flag_files)\n",
    "round_3_uvf = UVFlag(thresh_flag_file)"
   ]
  },
  {
   "cell_type": "code",
   "execution_count": 16,
   "metadata": {
    "execution": {
     "iopub.execute_input": "2022-08-29T17:18:53.185715Z",
     "iopub.status.busy": "2022-08-29T17:18:53.185490Z",
     "iopub.status.idle": "2022-08-29T17:18:53.212964Z",
     "shell.execute_reply": "2022-08-29T17:18:53.212450Z"
    }
   },
   "outputs": [
    {
     "ename": "NameError",
     "evalue": "name 'round_1_uvf' is not defined",
     "output_type": "error",
     "traceback": [
      "\u001b[0;31m---------------------------------------------------------------------------\u001b[0m",
      "\u001b[0;31mNameError\u001b[0m                                 Traceback (most recent call last)",
      "Input \u001b[0;32mIn [16]\u001b[0m, in \u001b[0;36m<cell line: 2>\u001b[0;34m()\u001b[0m\n\u001b[1;32m      1\u001b[0m \u001b[38;5;66;03m# Load in the data.\u001b[39;00m\n\u001b[0;32m----> 2\u001b[0m round_1_flags \u001b[38;5;241m=\u001b[39m \u001b[43mround_1_uvf\u001b[49m\u001b[38;5;241m.\u001b[39mflag_array[\u001b[38;5;241m.\u001b[39m\u001b[38;5;241m.\u001b[39m\u001b[38;5;241m.\u001b[39m,\u001b[38;5;241m0\u001b[39m]\n\u001b[1;32m      3\u001b[0m round_2_flags \u001b[38;5;241m=\u001b[39m round_2_uvf\u001b[38;5;241m.\u001b[39mflag_array[\u001b[38;5;241m.\u001b[39m\u001b[38;5;241m.\u001b[39m\u001b[38;5;241m.\u001b[39m,\u001b[38;5;241m0\u001b[39m]\n\u001b[1;32m      4\u001b[0m round_3_flags \u001b[38;5;241m=\u001b[39m round_3_uvf\u001b[38;5;241m.\u001b[39mflag_array[\u001b[38;5;241m.\u001b[39m\u001b[38;5;241m.\u001b[39m\u001b[38;5;241m.\u001b[39m,\u001b[38;5;241m0\u001b[39m]\n",
      "\u001b[0;31mNameError\u001b[0m: name 'round_1_uvf' is not defined"
     ]
    }
   ],
   "source": [
    "# Load in the data.\n",
    "round_1_flags = round_1_uvf.flag_array[...,0]\n",
    "round_2_flags = round_2_uvf.flag_array[...,0]\n",
    "round_3_flags = round_3_uvf.flag_array[...,0]\n",
    "\n",
    "# For plotting convenience.\n",
    "flags = dict(zip(range(1,4), (round_1_flags, round_2_flags, round_3_flags)))\n",
    "unique_flags = {\n",
    "    1: round_1_flags,\n",
    "    2: round_2_flags & ~round_1_flags,\n",
    "    3: round_3_flags & ~round_1_flags & ~round_2_flags,\n",
    "}\n",
    "\n",
    "# Construct an array that can be color-coded by when flags were introduced.\n",
    "combined_flags = np.zeros(round_1_flags.shape, dtype=np.float)\n",
    "for round_, flags_ in unique_flags.items():\n",
    "    combined_flags[flags_] = round_ / len(unique_flags)\n",
    "    \n",
    "# Prepare different plot labels.\n",
    "flag_labels = (\n",
    "    \"Flagged in Median Filter Round\",\n",
    "    \"Flagged in Mean Filter Round\",\n",
    "    \"Flagged in Thresholding\",\n",
    ")\n",
    "cbar_ticklabels = (\"Unflagged\",) + tuple(\n",
    "    \"in\\n\".join(flag_label.split(\"in \"))\n",
    "    for flag_label in flag_labels\n",
    ")\n",
    "\n",
    "# Prepare a colormap.\n",
    "cmap = plt.cm.colors.ListedColormap(\n",
    "    [\"slategray\", \"darkturquoise\", \"plum\", \"lemonchiffon\"]\n",
    ")\n",
    "\n",
    "# Useful plot metadata.\n",
    "lsts = np.unique(round_3_uvf.lst_array)\n",
    "times = np.unique(round_3_uvf.time_array)\n",
    "freqs = np.unique(round_3_uvf.freq_array)\n",
    "chans = np.arange(freqs.size)\n",
    "lsts_hr = lsts * units.day.to(\"hr\") * units.rad.to(\"cycle\")\n",
    "freqs_MHz = freqs / 1e6\n",
    "plot_times = times - float(JD)\n",
    "extent = (freqs_MHz[0], freqs_MHz[-1], plot_times[-1], plot_times[0])"
   ]
  },
  {
   "cell_type": "code",
   "execution_count": 17,
   "metadata": {
    "execution": {
     "iopub.execute_input": "2022-08-29T17:18:53.215510Z",
     "iopub.status.busy": "2022-08-29T17:18:53.215286Z",
     "iopub.status.idle": "2022-08-29T17:18:53.237643Z",
     "shell.execute_reply": "2022-08-29T17:18:53.236950Z"
    }
   },
   "outputs": [
    {
     "ename": "NameError",
     "evalue": "name 'plt' is not defined",
     "output_type": "error",
     "traceback": [
      "\u001b[0;31m---------------------------------------------------------------------------\u001b[0m",
      "\u001b[0;31mNameError\u001b[0m                                 Traceback (most recent call last)",
      "Input \u001b[0;32mIn [17]\u001b[0m, in \u001b[0;36m<cell line: 2>\u001b[0;34m()\u001b[0m\n\u001b[1;32m      1\u001b[0m \u001b[38;5;66;03m# Make a waterfall showing different flagging products.\u001b[39;00m\n\u001b[0;32m----> 2\u001b[0m fig \u001b[38;5;241m=\u001b[39m \u001b[43mplt\u001b[49m\u001b[38;5;241m.\u001b[39mfigure(figsize\u001b[38;5;241m=\u001b[39m(\u001b[38;5;241m16\u001b[39m,\u001b[38;5;241m12\u001b[39m))\n\u001b[1;32m      3\u001b[0m ax \u001b[38;5;241m=\u001b[39m fig\u001b[38;5;241m.\u001b[39madd_subplot(\u001b[38;5;241m111\u001b[39m)\n\u001b[1;32m      4\u001b[0m ax\u001b[38;5;241m.\u001b[39mset_xlabel(\u001b[38;5;124m\"\u001b[39m\u001b[38;5;124mFrequency (MHz)\u001b[39m\u001b[38;5;124m\"\u001b[39m, fontsize\u001b[38;5;241m=\u001b[39m\u001b[38;5;241m12\u001b[39m)\n",
      "\u001b[0;31mNameError\u001b[0m: name 'plt' is not defined"
     ]
    }
   ],
   "source": [
    "# Make a waterfall showing different flagging products.\n",
    "fig = plt.figure(figsize=(16,12))\n",
    "ax = fig.add_subplot(111)\n",
    "ax.set_xlabel(\"Frequency (MHz)\", fontsize=12)\n",
    "ax.set_ylabel(f\"JD - {JD}\", fontsize=12)\n",
    "ax.set_xlim(*extent[:2])\n",
    "ax.set_ylim(*extent[2:])\n",
    "cax = ax.imshow(\n",
    "    combined_flags,\n",
    "    aspect=\"auto\",\n",
    "    extent=extent,\n",
    "    interpolation='none',\n",
    "    cmap=cmap,\n",
    ")\n",
    "\n",
    "# Add labels on the top and right axes.\n",
    "twinx = ax.twinx()\n",
    "twiny = ax.twiny()\n",
    "twinx.set_ylabel(\"LST (hours)\", fontsize=12)\n",
    "twinx.set_ylim(lsts_hr.max(), lsts_hr.min())\n",
    "twiny.set_xlabel(\"Channel\", fontsize=12)\n",
    "twiny.set_xlim(chans.min(), chans.max())\n",
    "\n",
    "# Configure the colorbar so that labels are at the center of each section.\n",
    "cbar = fig.colorbar(cax)\n",
    "cbar_ticks = np.linspace(combined_flags.min(), combined_flags.max(), len(flags) + 2)\n",
    "cbar_ticks = 0.5 * (cbar_ticks[1:] + cbar_ticks[:-1])\n",
    "cbar.set_ticks(cbar_ticks)\n",
    "cbar.set_ticklabels(cbar_ticklabels);"
   ]
  },
  {
   "cell_type": "code",
   "execution_count": 18,
   "metadata": {
    "execution": {
     "iopub.execute_input": "2022-08-29T17:18:53.240381Z",
     "iopub.status.busy": "2022-08-29T17:18:53.240158Z",
     "iopub.status.idle": "2022-08-29T17:18:53.266061Z",
     "shell.execute_reply": "2022-08-29T17:18:53.265549Z"
    }
   },
   "outputs": [
    {
     "ename": "NameError",
     "evalue": "name 'plt' is not defined",
     "output_type": "error",
     "traceback": [
      "\u001b[0;31m---------------------------------------------------------------------------\u001b[0m",
      "\u001b[0;31mNameError\u001b[0m                                 Traceback (most recent call last)",
      "Input \u001b[0;32mIn [18]\u001b[0m, in \u001b[0;36m<cell line: 1>\u001b[0;34m()\u001b[0m\n\u001b[0;32m----> 1\u001b[0m \u001b[43mplt\u001b[49m\u001b[38;5;241m.\u001b[39mfigure(figsize\u001b[38;5;241m=\u001b[39m(\u001b[38;5;241m16\u001b[39m,\u001b[38;5;241m12\u001b[39m))\n\u001b[1;32m      2\u001b[0m max_abs \u001b[38;5;241m=\u001b[39m \u001b[38;5;241m100\u001b[39m\n\u001b[1;32m      3\u001b[0m \u001b[38;5;28;01mif\u001b[39;00m np\u001b[38;5;241m.\u001b[39mmax(uvf2\u001b[38;5;241m.\u001b[39mmetric_array) \u001b[38;5;241m>\u001b[39m max_abs:\n",
      "\u001b[0;31mNameError\u001b[0m: name 'plt' is not defined"
     ]
    }
   ],
   "source": [
    "plt.figure(figsize=(16,12))\n",
    "max_abs = 100\n",
    "if np.max(uvf2.metric_array) > max_abs:\n",
    "    extend = 'max'\n",
    "    if np.min(uvf2.metric_array) < -max_abs:\n",
    "        extend = 'both'\n",
    "elif np.min(uvf2.metric_array) < -max_abs:\n",
    "    extend = 'min'    \n",
    "else:\n",
    "    extend = 'neither'\n",
    "\n",
    "plt.imshow(uvf2.metric_array[:,:,0], aspect='auto', cmap='RdBu_r',\n",
    "           norm=colors.SymLogNorm(linthresh=1,vmin=-max_abs, vmax=max_abs), \n",
    "           extent=[uvf.freq_array[0] / 1e6, uvf.freq_array[-1] / 1e6, \n",
    "                   uvf.time_array[-1] - JD, uvf.time_array[0] - JD])\n",
    "plt.colorbar(pad=.07, extend=extend,\n",
    "             label='RFI Detection Significance ($\\sigma$s)')\n",
    "plt.title('Combined XRFI Metrics')\n",
    "plt.xlabel('Frequency (MHz)')\n",
    "plt.ylabel(f'JD - {JD}')\n",
    "ax2 = plt.gca().twinx()\n",
    "ax2.set_ylim([uvf.lst_array[0] * 12 / np.pi, uvf.lst_array[-1] * 12 / np.pi])\n",
    "ax2.invert_yaxis()\n",
    "ax2.set_ylabel('LST (hours)')\n",
    "ax3 = plt.gca().twiny()\n",
    "ax3.set_xlim([0, uvf.Nfreqs - 1])\n",
    "ax3.set_xlabel('Channel');"
   ]
  },
  {
   "cell_type": "markdown",
   "metadata": {},
   "source": [
    "## Figure 3: Flag Evolution\n",
    "This figure shows how the flags are built at each step in the initial XRFI flagging pipeline. Note that the completely flagged sections at the beginning and end of the night are expected. Main thing to look out for is if there are channels which are highly flagged after the second round of flagging but have not been completely flagged after day thresholding."
   ]
  },
  {
   "cell_type": "code",
   "execution_count": 19,
   "metadata": {
    "execution": {
     "iopub.execute_input": "2022-08-29T17:18:53.268623Z",
     "iopub.status.busy": "2022-08-29T17:18:53.268400Z",
     "iopub.status.idle": "2022-08-29T17:18:53.298152Z",
     "shell.execute_reply": "2022-08-29T17:18:53.297635Z"
    }
   },
   "outputs": [
    {
     "ename": "NameError",
     "evalue": "name 'plt' is not defined",
     "output_type": "error",
     "traceback": [
      "\u001b[0;31m---------------------------------------------------------------------------\u001b[0m",
      "\u001b[0;31mNameError\u001b[0m                                 Traceback (most recent call last)",
      "Input \u001b[0;32mIn [19]\u001b[0m, in \u001b[0;36m<cell line: 2>\u001b[0;34m()\u001b[0m\n\u001b[1;32m      1\u001b[0m \u001b[38;5;66;03m# Collapse the flags along each axis and plot the result.\u001b[39;00m\n\u001b[0;32m----> 2\u001b[0m fig \u001b[38;5;241m=\u001b[39m \u001b[43mplt\u001b[49m\u001b[38;5;241m.\u001b[39mfigure(figsize\u001b[38;5;241m=\u001b[39m(\u001b[38;5;241m15\u001b[39m,\u001b[38;5;241m10\u001b[39m))\n\u001b[1;32m      3\u001b[0m axes \u001b[38;5;241m=\u001b[39m fig\u001b[38;5;241m.\u001b[39msubplots(\u001b[38;5;241m2\u001b[39m, gridspec_kw\u001b[38;5;241m=\u001b[39m{\u001b[38;5;124m\"\u001b[39m\u001b[38;5;124mhspace\u001b[39m\u001b[38;5;124m\"\u001b[39m: \u001b[38;5;241m0.35\u001b[39m})\n\u001b[1;32m      4\u001b[0m twin_axes \u001b[38;5;241m=\u001b[39m [ax\u001b[38;5;241m.\u001b[39mtwiny() \u001b[38;5;28;01mfor\u001b[39;00m ax \u001b[38;5;129;01min\u001b[39;00m axes]\n",
      "\u001b[0;31mNameError\u001b[0m: name 'plt' is not defined"
     ]
    }
   ],
   "source": [
    "# Collapse the flags along each axis and plot the result.\n",
    "fig = plt.figure(figsize=(15,10))\n",
    "axes = fig.subplots(2, gridspec_kw={\"hspace\": 0.35})\n",
    "twin_axes = [ax.twiny() for ax in axes]\n",
    "\n",
    "# Set the plot labels.\n",
    "axes[0].set_xlabel(f\"JD - {JD}\", fontsize=12)\n",
    "axes[0].set_ylabel(\"Fraction of Channels Flagged\", fontsize=12)\n",
    "axes[1].set_xlabel(\"Frequency (MHz)\", fontsize=12)\n",
    "axes[1].set_ylabel(\n",
    "    \"Fraction of Integrations Flagged\\nin Total Day Thresholded Flags\", fontsize=12\n",
    ")\n",
    "twin_axes[0].set_xlabel(\"LST (hour)\", fontsize=12)\n",
    "twin_axes[0].set_xlim(lsts_hr[0], lsts_hr[-1])\n",
    "twin_axes[1].set_xlabel(\"Channel\", fontsize=12)\n",
    "twin_axes[1].set_xlim(chans.min(), chans.max())\n",
    "\n",
    "# Plot the channel occupancy as a function of time.\n",
    "for label, flag_array in zip(flag_labels, flags.values()):\n",
    "    axes[0].plot(plot_times, flag_array.astype(np.float).mean(axis=1), label=label)\n",
    "axes[0].plot(plot_times, ssins_uvf.flag_array.astype(np.float).mean(axis=(1, -1)), \n",
    "             label=\"Flagged by SSINS\")\n",
    "\n",
    "# Plot the flagging fraction as a function of frequency.\n",
    "axes[1].plot(\n",
    "    freqs_MHz, round_3_flags.astype(np.float).mean(axis=0), color=\"k\", ms=1, lw=0, marker=\"o\",\n",
    "    label=\"XRFI frequency occupancy\",\n",
    ")\n",
    "# Do the same with the SSINS flags\n",
    "axes[1].plot(freqs_MHz, ssins_uvf.flag_array.astype(np.float).mean(axis=(0, -1)), ms=1, lw=0,\n",
    "             marker=\"o\", label=\"SSINS frequency occupancy\")\n",
    "    \n",
    "axes[0].legend();\n",
    "axes[1].legend()"
   ]
  },
  {
   "cell_type": "markdown",
   "metadata": {},
   "source": [
    "## Figure 4: Flagging Occupancies\n",
    "The top plot shows the fraction of channels flagged at each integration for each set of flags. The bottom plot shows the fraction of integrations flagged as a function of frequency for the total thresholded flags."
   ]
  },
  {
   "cell_type": "markdown",
   "metadata": {},
   "source": [
    "# Metadata"
   ]
  },
  {
   "cell_type": "code",
   "execution_count": 20,
   "metadata": {
    "execution": {
     "iopub.execute_input": "2022-08-29T17:18:53.300758Z",
     "iopub.status.busy": "2022-08-29T17:18:53.300535Z",
     "iopub.status.idle": "2022-08-29T17:18:54.549363Z",
     "shell.execute_reply": "2022-08-29T17:18:54.548170Z"
    }
   },
   "outputs": [
    {
     "name": "stdout",
     "output_type": "stream",
     "text": [
      "2.0.3.dev44+g7d4aa18\n"
     ]
    }
   ],
   "source": [
    "from hera_qm import __version__\n",
    "print(__version__)"
   ]
  },
  {
   "cell_type": "code",
   "execution_count": 21,
   "metadata": {
    "execution": {
     "iopub.execute_input": "2022-08-29T17:18:54.554860Z",
     "iopub.status.busy": "2022-08-29T17:18:54.554249Z",
     "iopub.status.idle": "2022-08-29T17:18:54.573703Z",
     "shell.execute_reply": "2022-08-29T17:18:54.572872Z"
    }
   },
   "outputs": [
    {
     "ename": "NameError",
     "evalue": "name 'SSINS_ver' is not defined",
     "output_type": "error",
     "traceback": [
      "\u001b[0;31m---------------------------------------------------------------------------\u001b[0m",
      "\u001b[0;31mNameError\u001b[0m                                 Traceback (most recent call last)",
      "Input \u001b[0;32mIn [21]\u001b[0m, in \u001b[0;36m<cell line: 1>\u001b[0;34m()\u001b[0m\n\u001b[0;32m----> 1\u001b[0m \u001b[38;5;28mprint\u001b[39m(\u001b[38;5;124mf\u001b[39m\u001b[38;5;124m\"\u001b[39m\u001b[38;5;124mSSINS version info: \u001b[39m\u001b[38;5;132;01m{\u001b[39;00mSSINS_ver\u001b[38;5;241m.\u001b[39mconstruct_version_info()\u001b[38;5;132;01m}\u001b[39;00m\u001b[38;5;124m\"\u001b[39m)\n",
      "\u001b[0;31mNameError\u001b[0m: name 'SSINS_ver' is not defined"
     ]
    }
   ],
   "source": [
    "print(f\"SSINS version info: {SSINS_ver.construct_version_info()}\")"
   ]
  }
 ],
 "metadata": {
  "kernelspec": {
   "display_name": "Python 3",
   "language": "python",
   "name": "python3"
  },
  "language_info": {
   "codemirror_mode": {
    "name": "ipython",
    "version": 3
   },
   "file_extension": ".py",
   "mimetype": "text/x-python",
   "name": "python",
   "nbconvert_exporter": "python",
   "pygments_lexer": "ipython3",
   "version": "3.9.13"
  },
  "toc": {
   "base_numbering": 1,
   "nav_menu": {},
   "number_sections": false,
   "sideBar": true,
   "skip_h1_title": false,
   "title_cell": "Table of Contents",
   "title_sidebar": "Contents",
   "toc_cell": false,
   "toc_position": {},
   "toc_section_display": true,
   "toc_window_display": false
  }
 },
 "nbformat": 4,
 "nbformat_minor": 2
}
